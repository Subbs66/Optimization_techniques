{
  "nbformat": 4,
  "nbformat_minor": 0,
  "metadata": {
    "colab": {
      "name": "NLO assignment-2.ipynb",
      "provenance": [],
      "collapsed_sections": [
        "EJs9ab6kDBbt",
        "mLrnL_IaDSsW",
        "BP420-inDjXZ",
        "hio00gXitgXZ"
      ]
    },
    "kernelspec": {
      "name": "python3",
      "display_name": "Python 3",
      "language": "python"
    },
    "language_info": {
      "name": "python",
      "version": "3.7.5"
    }
  },
  "cells": [
    {
      "cell_type": "code",
      "metadata": {
        "id": "7N5dHIlmCdKO"
      },
      "source": [
        "import numpy as np\n",
        "import matplotlib.pyplot as plt\n",
        "from tabulate import tabulate"
      ],
      "execution_count": 33,
      "outputs": []
    },
    {
      "cell_type": "code",
      "metadata": {
        "id": "9grZC4UpCoy_"
      },
      "source": [
        "def f(x):\n",
        "    #enter the expression here\n",
        "    f=6*np.exp(-2*x)+2*x**2\n",
        "    return f\n",
        "\n",
        "def df(x):\n",
        "    df=-12*np.exp(-2*x)+4*x\n",
        "    # df=2*x+2\n",
        "    return df\n",
        "\n",
        "def ddf(x):\n",
        "    ddf=24*np.exp(-2*x)+4\n",
        "    return ddf\n",
        "\n",
        "def f2(v1,v2):\n",
        "    #write the expression here\n",
        "    # f=(3 - v1)**2 + 7*(v2 - v1**2)**2\n",
        "    f=((v1-2)**4)+((v1-2*v2)**2)\n",
        "    return f"
      ],
      "execution_count": 34,
      "outputs": []
    },
    {
      "cell_type": "markdown",
      "metadata": {
        "id": "P7uSVdwjC0ZK"
      },
      "source": [
        "### Golden search method"
      ]
    },
    {
      "cell_type": "code",
      "metadata": {
        "id": "bJktg2IiCqPo"
      },
      "source": [
        "def golden_search(l,a,b):\n",
        "    print(\"a,b ={}, {} \".format(a,b))\n",
        "    global count\n",
        "    count+=1\n",
        "    # print(type(a),type(b))\n",
        "    alpha=0.618\n",
        "    if b-a>=l:\n",
        "        lamda=a+((1-alpha)*(b-a))\n",
        "        mu=a+alpha*(b-a)\n",
        "        print(\"lamda,mu = {}, {}\".format(lamda,mu))\n",
        "        print(\"f(lamda), f(mu)= {}, {}\".format(f(lamda),f(mu)))\n",
        "        print(\"----------------------------------------\")\n",
        "        if f(lamda)>f(mu):\n",
        "            i,j,o=golden_search(l,lamda,b)\n",
        "            return i,j,(i+j)/2\n",
        "        else:\n",
        "            i,j,o=golden_search(l,a,mu)\n",
        "            return i,j,(i+j)/2\n",
        "    else:\n",
        "        print(\"Number of iterations= {}\".format(count))\n",
        "        return (a,b,(a+b)/2)"
      ],
      "execution_count": 35,
      "outputs": []
    },
    {
      "cell_type": "code",
      "metadata": {
        "colab": {
          "base_uri": "https://localhost:8080/"
        },
        "id": "O2fSL58tC9xE",
        "outputId": "c1ba792b-66eb-4209-ba12-41851d7d6741"
      },
      "source": [
        "count=0\n",
        "_,_,optima=golden_search(0.0001,-3,5)\n",
        "print(\"The optima with Golden search method= {}\".format(optima))\n"
      ],
      "execution_count": 36,
      "outputs": [
        {
          "output_type": "stream",
          "name": "stdout",
          "text": [
            "a,b =-3, 5 \nlamda,mu = 0.05600000000000005, 1.944\nf(lamda), f(mu)= 5.3705375450021435, 7.681189665887878\n----------------------------------------\na,b =-3, 1.944 \nlamda,mu = -1.111392, 0.055391999999999886\nf(lamda), f(mu)= 57.86838309278039, 5.376929006792605\n----------------------------------------\na,b =-1.111392, 1.944 \nlamda,mu = 0.05576774399999995, 0.7768402560000001\nf(lamda), f(mu)= 5.37297797207784, 2.4757709372251004\n----------------------------------------\na,b =0.05576774399999995, 1.944 \nlamda,mu = 0.777072465792, 1.2226952782079998\nf(lamda), f(mu)= 2.475903481615629, 3.510121107105107\n----------------------------------------\na,b =0.05576774399999995, 1.2226952782079998 \nlamda,mu = 0.501534062067456, 0.7769289601405439\nf(lamda), f(mu)= 2.703587657459722, 2.4758215114273683\n----------------------------------------\na,b =0.501534062067456, 1.2226952782079998 \nlamda,mu = 0.7770176466331438, 0.9472116936423121\nf(lamda), f(mu)= 2.4758721469471845, 2.696850198167273\n----------------------------------------\na,b =0.501534062067456, 0.9472116936423121 \nlamda,mu = 0.671782917329051, 0.776962838380717\nf(lamda), f(mu)= 2.4680663737319857, 2.4758408457716756\n----------------------------------------\na,b =0.501534062067456, 0.776962838380717 \nlamda,mu = 0.6067478546191217, 0.6717490458290513\nf(lamda), f(mu)= 2.519226048012011, 2.468081412871795\n----------------------------------------\na,b =0.6067478546191217, 0.776962838380717 \nlamda,mu = 0.6717699784160511, 0.7119407145837876\nf(lamda), f(mu)= 2.468072117293671, 2.458384999035355\n----------------------------------------\na,b =0.6717699784160511, 0.776962838380717 \nlamda,mu = 0.7119536509225535, 0.7367791658742147\nf(lamda), f(mu)= 2.458384462105297, 2.460339806140352\n----------------------------------------\na,b =0.6717699784160511, 0.7367791658742147 \nlamda,mu = 0.6966034880250696, 0.7119456562651962\nf(lamda), f(mu)= 2.460179672409884, 2.4583847937349113\n----------------------------------------\na,b =0.6966034880250696, 0.7367791658742147 \nlamda,mu = 0.711950596963443, 0.7214320569358412\nf(lamda), f(mu)= 2.4583845887140368, 2.4584292742587457\n----------------------------------------\na,b =0.6966034880250696, 0.7214320569358412 \nlamda,mu = 0.7060880013489843, 0.7119475436119265\nf(lamda), f(mu)= 2.4587961570938663, 2.4583847153887612\n----------------------------------------\na,b =0.7060880013489843, 0.7214320569358412 \nlamda,mu = 0.7119494305831636, 0.7155706277016619\nf(lamda), f(mu)= 2.4583846370930207, 2.4582984390358575\n----------------------------------------\na,b =0.7119494305831636, 0.7214320569358412 \nlamda,mu = 0.7155717938498865, 0.7178096936691184\nf(lamda), f(mu)= 2.4582984318717465, 2.4583090568854113\n----------------------------------------\na,b =0.7119494305831636, 0.7178096936691184 \nlamda,mu = 0.7141880510819983, 0.7155710731702837\nf(lamda), f(mu)= 2.4583162517547503, 2.4582984362976044\n----------------------------------------\na,b =0.7141880510819983, 0.7178096936691184 \nlamda,mu = 0.7155715185502782, 0.7164262262008385\nf(lamda), f(mu)= 2.458298433561827, 2.458296740629305\n----------------------------------------\na,b =0.7155715185502782, 0.7178096936691184 \nlamda,mu = 0.7164265014456752, 0.7169547107737214\nf(lamda), f(mu)= 2.4582967412290393, 2.4582992495252687\n----------------------------------------\na,b =0.7155715185502782, 0.7169547107737214 \nlamda,mu = 0.7160998979796336, 0.7164263313443661\nf(lamda), f(mu)= 2.458296548009389, 2.4582967408583163\n----------------------------------------\na,b =0.7155715185502782, 0.7164263313443661 \nlamda,mu = 0.7158980570376198, 0.7160997928570245\nf(lamda), f(mu)= 2.4582969475258145, 2.4582965481142764\n----------------------------------------\na,b =0.7158980570376198, 0.7164263313443661 \nlamda,mu = 0.7160998578227968, 0.716224530559189\nf(lamda), f(mu)= 2.458296548049443, 2.4582964992916025\n----------------------------------------\na,b =0.7160998578227968, 0.7164263313443661 \nlamda,mu = 0.7162245707080362, 0.7163016184591267\nf(lamda), f(mu)= 2.4582964993002596, 2.458296544806856\n----------------------------------------\na,b =0.7160998578227968, 0.7163016184591267 \nlamda,mu = 0.7161769303858748, 0.7162245458960487\nf(lamda), f(mu)= 2.458296500059284, 2.4582964992949075\n----------------------------------------\na,b =0.7161769303858748, 0.7163016184591267 \nlamda,mu = 0.716224561229857, 0.7162539876151445\nf(lamda), f(mu)= 2.458296499298214, 2.4582965098588474\n----------------------------------------\na,b =0.7161769303858748, 0.7162539876151445 \nNumber of iterations= 25\nThe optima with Golden search method= 0.7162154590005096\n"
          ]
        }
      ]
    },
    {
      "cell_type": "markdown",
      "metadata": {
        "id": "EJs9ab6kDBbt"
      },
      "source": [
        "### Dichotomous search method"
      ]
    },
    {
      "cell_type": "code",
      "metadata": {
        "id": "opwHBkfWDF1N"
      },
      "source": [
        "def dichotomous_search(l,epslon,a,b):\n",
        "    print(\"a,b ={}, {} \".format(a,b))\n",
        "    global count\n",
        "    count+=1\n",
        "    # print(type(a),type(b))\n",
        "    alpha=0.5\n",
        "    if b-a>=l:\n",
        "        lamda=a+((1-alpha)*(b-a))-epslon\n",
        "        mu=a+alpha*(b-a)+epslon\n",
        "        print(\"lamda,mu = {}, {}\".format(lamda,mu))\n",
        "        print(\"f(lamda), f(mu)= {}, {}\".format(f(lamda),f(mu)))\n",
        "        print(\"----------------------------------------\")\n",
        "        if f(lamda)>f(mu):\n",
        "            i,j,o=dichotomous_search(l,epslon,lamda,b)\n",
        "            return i,j,(i+j)/2\n",
        "        else:\n",
        "            i,j,o=dichotomous_search(l,epslon,a,mu)\n",
        "            return i,j,(i+j)/2\n",
        "    else:\n",
        "        print(\"Number of iterations= {}\".format(count))\n",
        "        return (a,b,(a+b)/2)"
      ],
      "execution_count": 37,
      "outputs": []
    },
    {
      "cell_type": "code",
      "metadata": {
        "colab": {
          "base_uri": "https://localhost:8080/"
        },
        "id": "jb2oSb9wDMRN",
        "outputId": "ac906b10-3da6-4b8d-c586-9f4800aabdf0"
      },
      "source": [
        "count=0\n",
        "_,_,optima=dichotomous_search(0.002,0.0002,-3,5)\n",
        "print(\"The optima with Dichotomous search method= {}\".format(optima))"
      ],
      "execution_count": 38,
      "outputs": [
        {
          "output_type": "stream",
          "name": "stdout",
          "text": [
            "a,b =-3, 5 \nlamda,mu = 0.9998, 1.0002\nf(lamda), f(mu)= 2.8115366490690423, 2.8124870396921837\n----------------------------------------\na,b =-3, 1.0002 \nlamda,mu = -1.0001000000000002, -0.9997000000000003\nf(lamda), f(mu)= 46.34360436764848, 46.30654415021257\n----------------------------------------\na,b =-1.0001000000000002, 1.0002 \nlamda,mu = -0.00015000000000011654, 0.00024999999999988345\nf(lamda), f(mu)= 6.001800315027003, 5.997000874875017\n----------------------------------------\na,b =-0.00015000000000011654, 1.0002 \nlamda,mu = 0.49982499999999996, 0.5002249999999999\nf(lamda), f(mu)= 2.707699390316583, 2.706733697240732\n----------------------------------------\na,b =0.49982499999999996, 1.0002 \nlamda,mu = 0.7498125, 0.7502125\nf(lamda), f(mu)= 2.463720668208217, 2.463849690186229\n----------------------------------------\na,b =0.49982499999999996, 0.7502125 \nlamda,mu = 0.62481875, 0.6252187499999999\nf(lamda), f(mu)= 2.500448982756648, 2.500073841264945\n----------------------------------------\na,b =0.62481875, 0.7502125 \nlamda,mu = 0.687315625, 0.6877156249999999\nf(lamda), f(mu)= 2.4624026223259343, 2.4622890551590557\n----------------------------------------\na,b =0.687315625, 0.7502125 \nlamda,mu = 0.7185640625, 0.7189640625\nf(lamda), f(mu)= 2.4583236052865653, 2.4583335598893648\n----------------------------------------\na,b =0.687315625, 0.7189640625 \nlamda,mu = 0.7029398437500001, 0.70333984375\nf(lamda), f(mu)= 2.459156678050232, 2.4591054461010953\n----------------------------------------\na,b =0.7029398437500001, 0.7189640625 \nlamda,mu = 0.7107519531250001, 0.711151953125\nf(lamda), f(mu)= 2.45844132705645, 2.4584208297319394\n----------------------------------------\na,b =0.7107519531250001, 0.7189640625 \nlamda,mu = 0.7146580078125, 0.7150580078125\nf(lamda), f(mu)= 2.4583081070528565, 2.4583028707536485\n----------------------------------------\na,b =0.7146580078125, 0.7189640625 \nlamda,mu = 0.71661103515625, 0.71701103515625\nf(lamda), f(mu)= 2.4582973091630285, 2.458299677046031\n----------------------------------------\na,b =0.7146580078125, 0.71701103515625 \nlamda,mu = 0.715634521484375, 0.716034521484375\nf(lamda), f(mu)= 2.4582980660226994, 2.4582966340016634\n----------------------------------------\na,b =0.715634521484375, 0.71701103515625 \nNumber of iterations= 14\nThe optima with Dichotomous search method= 0.7163227783203125\n"
          ]
        }
      ]
    },
    {
      "cell_type": "markdown",
      "metadata": {
        "id": "mLrnL_IaDSsW"
      },
      "source": [
        "### Fibonacci search method"
      ]
    },
    {
      "cell_type": "code",
      "metadata": {
        "id": "6vH4_dVMDZSM"
      },
      "source": [
        "def fibonacci(n):\n",
        "    if n < 1:\n",
        "        return 0\n",
        "    elif n == 1:\n",
        "        return 1\n",
        "    else:\n",
        "        return fibonacci(n-1)+fibonacci(n-2)"
      ],
      "execution_count": 39,
      "outputs": []
    },
    {
      "cell_type": "code",
      "metadata": {
        "id": "D6yQOxdGDd5h"
      },
      "source": [
        "def fibonacci_search(a,b,l,eps,n,k):\n",
        "    print(\"a,b ={}, {} \".format(a,b))\n",
        "    lamda=float(a+(fibonacci(n-2)/fibonacci(n))*(b-a))\n",
        "    mu=float(a+(fibonacci(n-1)/fibonacci(n))*(b-a))\n",
        "    print(\"lamda,mu = {}, {}\".format(lamda,mu))\n",
        "    print(\"f(lamda), f(mu)= {}, {}\".format(f(lamda),f(mu)))\n",
        "    print(\"----------------------------------------\")\n",
        "    if f(lamda) > f(mu):\n",
        "        a=lamda\n",
        "        lamda=mu\n",
        "        mu=a+(fibonacci(n-k-1)/fibonacci(n-k))*(b-a)\n",
        "    else:\n",
        "        b=mu\n",
        "        mu=lamda\n",
        "        lamda=a+(fibonacci(n-k-2)/fibonacci(n-k))*(b-a)\n",
        "\n",
        "    if k==n-2:\n",
        "        print(\"Number of iterations= {}\".format(k))\n",
        "        mu_k=lamda+eps\n",
        "        if f(lamda)>f(mu):\n",
        "            # print(\"fibonacci_search Solution: \",(lamda+b)/2)\n",
        "            return (lamda+b)/2\n",
        "        else:\n",
        "            # print(\"fibonacci_search Solution: \",(a+mu)/2)\n",
        "            return (a+mu)/2\n",
        "    else:\n",
        "        k += 1\n",
        "        o=fibonacci_search(a,b,l,eps,n,k)\n",
        "        return o"
      ],
      "execution_count": 40,
      "outputs": []
    },
    {
      "cell_type": "code",
      "metadata": {
        "colab": {
          "base_uri": "https://localhost:8080/"
        },
        "id": "bggCrvD4DiyM",
        "outputId": "1a845837-0711-49c8-fda5-ef87baab1640"
      },
      "source": [
        "o=fibonacci_search(-3,5,0.0001,0.001,27,1)\n",
        "print(\"The optima with Fibonacci search method= {}\".format(o))"
      ],
      "execution_count": 41,
      "outputs": [
        {
          "output_type": "stream",
          "name": "stdout",
          "text": [
            "a,b =-3, 5 \n",
            "lamda,mu = 0.05572809009357593, 1.9442719099064236\n",
            "f(lamda), f(mu)= 5.373394772295574, 7.683237358300704\n",
            "----------------------------------------\n",
            "a,b =-3, 1.9442719099064236 \n",
            "lamda,mu = -1.1114561799797908, 0.05572808988621425\n",
            "f(lamda), f(mu)= 57.87577975875776, 5.373394774475247\n",
            "----------------------------------------\n",
            "a,b =-1.1114561799797908, 1.9442719099064236 \n",
            "lamda,mu = 0.055728090014370624, 0.7770876399122617\n",
            "f(lamda), f(mu)= 5.373394773128137, 2.4759121599712426\n",
            "----------------------------------------\n",
            "a,b =0.055728090014370624, 1.9442719099064236 \n",
            "lamda,mu = 0.7770876399914668, 1.2229123599293275\n",
            "f(lamda), f(mu)= 2.475912160016547, 3.510957117866959\n",
            "----------------------------------------\n",
            "a,b =0.055728090014370624, 1.2229123599293275 \n",
            "lamda,mu = 0.5015528100011826, 0.7770876399425154\n",
            "f(lamda), f(mu)= 2.70354276040673, 2.4759121599885474\n",
            "----------------------------------------\n",
            "a,b =0.5015528100011826, 1.2229123599293275 \n",
            "lamda,mu = 0.7770876399727691, 0.9473775299577409\n",
            "f(lamda), f(mu)= 2.4759121600058522, 2.6971793197877534\n",
            "----------------------------------------\n",
            "a,b =0.5015528100011826, 0.9473775299577409 \n",
            "lamda,mu = 0.6718427000048522, 0.7770876399540712\n",
            "f(lamda), f(mu)= 2.4680398586092935, 2.4759121599951572\n",
            "----------------------------------------\n",
            "a,b =0.5015528100011826, 0.7770876399540712 \n",
            "lamda,mu = 0.6067977499619573, 0.6718426999932963\n",
            "f(lamda), f(mu)= 2.519169236619043, 2.468039858614415\n",
            "----------------------------------------\n",
            "a,b =0.6067977499619573, 0.7770876399540712 \n",
            "lamda,mu = 0.6718427000004382, 0.7120426899155903\n",
            "f(lamda), f(mu)= 2.4680398586112497, 2.458380810883574\n",
            "----------------------------------------\n",
            "a,b =0.6718427000004382, 0.7770876399540712 \n",
            "lamda,mu = 0.7120426899200042, 0.7368876500345052\n",
            "f(lamda), f(mu)= 2.4583808108833947, 2.460361321414527\n",
            "----------------------------------------\n",
            "a,b =0.6718427000004382, 0.7368876500345052 \n",
            "lamda,mu = 0.6966876601176671, 0.7120426899172763\n",
            "f(lamda), f(mu)= 2.460163469230904, 2.4583808108835052\n",
            "----------------------------------------\n",
            "a,b =0.6966876601176671, 0.7368876500345052 \n",
            "lamda,mu = 0.7120426899189622, 0.7215326202332101\n",
            "f(lamda), f(mu)= 2.458380810883437, 2.458434424380237\n",
            "----------------------------------------\n",
            "a,b =0.6966876601176671, 0.7215326202332101 \n",
            "lamda,mu = 0.706177590432957, 0.7120426899179202\n",
            "f(lamda), f(mu)= 2.4587873273565055, 2.4583808108834795\n",
            "----------------------------------------\n",
            "a,b =0.706177590432957, 0.7215326202332101 \n",
            "lamda,mu = 0.7120426899185641, 0.7156675207476029\n",
            "f(lamda), f(mu)= 2.458380810883453, 2.458297888937688\n",
            "----------------------------------------\n",
            "a,b =0.7120426899185641, 0.7215326202332101 \n",
            "lamda,mu = 0.7156675207480009, 0.7179077894037733\n",
            "f(lamda), f(mu)= 2.458297888937686, 2.4583106362250735\n",
            "----------------------------------------\n",
            "a,b =0.7120426899185641, 0.7179077894037733 \n",
            "lamda,mu = 0.7142829585745825, 0.715667520747755\n",
            "f(lamda), f(mu)= 2.4583144334009575, 2.458297888937687\n",
            "----------------------------------------\n",
            "a,b =0.7142829585745825, 0.7179077894037733 \n",
            "lamda,mu = 0.715667520747907, 0.7165232272304488\n",
            "f(lamda), f(mu)= 2.458297888937687, 2.458296997616373\n",
            "----------------------------------------\n",
            "a,b =0.715667520747907, 0.7179077894037733 \n",
            "lamda,mu = 0.7165232272305428, 0.7170520829211374\n",
            "f(lamda), f(mu)= 2.4582969976163733, 2.458300008038008\n",
            "----------------------------------------\n",
            "a,b =0.715667520747907, 0.7170520829211374 \n",
            "lamda,mu = 0.7161963764385596, 0.7165232272304848\n",
            "f(lamda), f(mu)= 2.4582964970822365, 2.458296997616373\n",
            "----------------------------------------\n",
            "a,b =0.715667520747907, 0.7165232272304848 \n",
            "lamda,mu = 0.715994371539868, 0.7161963764385237\n",
            "f(lamda), f(mu)= 2.458296707427953, 2.4582964970822365\n",
            "----------------------------------------\n",
            "a,b =0.715994371539868, 0.7165232272304848 \n",
            "lamda,mu = 0.716196376438546, 0.7163212223318068\n",
            "f(lamda), f(mu)= 2.4582964970822365, 2.458296565602171\n",
            "----------------------------------------\n",
            "a,b =0.715994371539868, 0.7163212223318068 \n",
            "lamda,mu = 0.7161192174331426, 0.7161963764385323\n",
            "f(lamda), f(mu)= 2.4582965305590454, 2.4582964970822365\n",
            "----------------------------------------\n",
            "a,b =0.7161192174331426, 0.7163212223318068 \n",
            "lamda,mu = 0.7161963764385407, 0.7162440633264087\n",
            "f(lamda), f(mu)= 2.4582964970822365, 2.4582965053556736\n",
            "----------------------------------------\n",
            "a,b =0.7161192174331426, 0.7162440633264087 \n",
            "lamda,mu = 0.7161669043210158, 0.7161963764385354\n",
            "f(lamda), f(mu)= 2.4582965030317383, 2.4582964970822365\n",
            "----------------------------------------\n",
            "a,b =0.7161669043210158, 0.7162440633264087 \n",
            "lamda,mu = 0.7161963764385386, 0.7162145912088859\n",
            "f(lamda), f(mu)= 2.4582964970822365, 2.458296497630892\n",
            "----------------------------------------\n",
            "Number of iterations= 25\n",
            "The optima with Fibonacci search method= 0.7161907477649508\n"
          ]
        }
      ]
    },
    {
      "cell_type": "markdown",
      "metadata": {
        "id": "BP420-inDjXZ"
      },
      "source": [
        "### Bisection search method"
      ]
    },
    {
      "cell_type": "code",
      "metadata": {
        "id": "Bl2N2PHCD4bi"
      },
      "source": [
        "def bisection_search(l,a,b):\n",
        "    a=float(a)\n",
        "    b=float(b)\n",
        "    print(\"a,b ={}, {} \".format(a,b))\n",
        "    global count\n",
        "    count+=1\n",
        "    # print(count)\n",
        "    # print(a,b)\n",
        "    global n\n",
        "    if count==1:\n",
        "        n=np.ceil(np.log(l/(b-a))/np.log(0.5))\n",
        "    else:\n",
        "        pass\n",
        "    if count==n:\n",
        "        print(\"Number of iterations= {}\".format(count))\n",
        "        return a,b,(a+b)/2\n",
        "    else:\n",
        "        lamda=(b+a)/2\n",
        "        print(\"lamda= {}\".format(lamda))\n",
        "        dl=df(lamda)\n",
        "        print(\"df(lamda)= {}\".format(dl))\n",
        "        print(\"----------------------------------------\")\n",
        "        if dl==0:\n",
        "            print(\"Number of iterations= {}\".format(count))\n",
        "            return lamda,lamda,lamda\n",
        "        elif dl>0:\n",
        "            p,q,o=bisection_search(l,a,lamda)\n",
        "            return p,q,(p+q)/2\n",
        "        elif dl<0:\n",
        "            p,q,o=bisection_search(l,lamda,b)\n",
        "            return p,q,(p+q)/2"
      ],
      "execution_count": 42,
      "outputs": []
    },
    {
      "cell_type": "code",
      "metadata": {
        "colab": {
          "base_uri": "https://localhost:8080/"
        },
        "id": "VN3hQ0ERD_4w",
        "outputId": "7e47f5e7-4f16-453e-8616-4061c2f790ee"
      },
      "source": [
        "count=0\n",
        "n=0\n",
        "a,b,o=bisection_search(0.0001,-3,5)\n",
        "print(\"The optima with Bisection search method= {}\".format(o))"
      ],
      "execution_count": 43,
      "outputs": [
        {
          "output_type": "stream",
          "name": "stdout",
          "text": [
            "a,b =-3.0, 5.0 \nlamda= 1.0\ndf(lamda)= 2.3759766011606476\n----------------------------------------\na,b =-3.0, 1.0 \nlamda= -1.0\ndf(lamda)= -92.6686731871678\n----------------------------------------\na,b =-1.0, 1.0 \nlamda= 0.0\ndf(lamda)= -12.0\n----------------------------------------\na,b =0.0, 1.0 \nlamda= 0.5\ndf(lamda)= -2.414553294057308\n----------------------------------------\na,b =0.5, 1.0 \nlamda= 0.75\ndf(lamda)= 0.3224380782188421\n----------------------------------------\na,b =0.5, 0.75 \nlamda= 0.625\ndf(lamda)= -0.9380575623222809\n----------------------------------------\na,b =0.625, 0.75 \nlamda= 0.6875\ndf(lamda)= -0.28407514965695757\n----------------------------------------\na,b =0.6875, 0.75 \nlamda= 0.71875\ndf(lamda)= 0.02475017085450215\n----------------------------------------\na,b =0.6875, 0.71875 \nlamda= 0.703125\ndf(lamda)= -0.128226470946311\n----------------------------------------\na,b =0.703125, 0.71875 \nlamda= 0.7109375\ndf(lamda)= -0.0513847328541317\n----------------------------------------\na,b =0.7109375, 0.71875 \nlamda= 0.71484375\ndf(lamda)= -0.013229615618147506\n----------------------------------------\na,b =0.71484375, 0.71875 \nlamda= 0.716796875\ndf(lamda)= 0.005782108436583222\n----------------------------------------\na,b =0.71484375, 0.716796875 \nlamda= 0.7158203125\ndf(lamda)= -0.0037182852213999418\n----------------------------------------\na,b =0.7158203125, 0.716796875 \nlamda= 0.71630859375\ndf(lamda)= 0.0010332773652117488\n----------------------------------------\na,b =0.7158203125, 0.71630859375 \nlamda= 0.716064453125\ndf(lamda)= -0.0013421623219502798\n----------------------------------------\na,b =0.716064453125, 0.71630859375 \nlamda= 0.7161865234375\ndf(lamda)= -0.00015435709768230055\n----------------------------------------\na,b =0.7161865234375, 0.71630859375 \nNumber of iterations= 17\nThe optima with Bisection search method= 0.71624755859375\n"
          ]
        }
      ]
    },
    {
      "cell_type": "markdown",
      "metadata": {
        "id": "-g0Jb79TEHAa"
      },
      "source": [
        "### Newton's method"
      ]
    },
    {
      "cell_type": "code",
      "metadata": {
        "id": "EW_rzV7PEGIE"
      },
      "source": [
        "def newton_method(l,p):\n",
        "    lamda=p\n",
        "    count=0\n",
        "    while True:\n",
        "        count+=1\n",
        "        print(\"lamda= {}\".format(lamda))\n",
        "        olamda=lamda\n",
        "        dl=df(lamda)\n",
        "        ddl=ddf(lamda)\n",
        "        print(\"df(lamda), ddf(lamda)= {}, {}\".format(dl,ddl))\n",
        "        lamda=lamda-(dl/ddl)\n",
        "        print(\"Updated lamda= {}\".format(lamda))\n",
        "        print(\"----------------------------------------\")\n",
        "        dist = np.linalg.norm(olamda-lamda)\n",
        "        if dist<l:\n",
        "            print(\"Number of iterations= {}\".format(count))\n",
        "            return lamda\n",
        "        if abs(dl)<l:\n",
        "            print(\"Number of iterations= {}\".format(count))\n",
        "            return lamda"
      ],
      "execution_count": 44,
      "outputs": []
    },
    {
      "cell_type": "code",
      "metadata": {
        "colab": {
          "base_uri": "https://localhost:8080/"
        },
        "id": "4F-8F__yETq4",
        "outputId": "5aa7ee68-9e46-4ca9-8042-138403e7ab44"
      },
      "source": [
        "o=newton_method(0.0001,5)\n",
        "print(\"The optima with Newton's method= {}\".format(o))"
      ],
      "execution_count": 45,
      "outputs": [
        {
          "output_type": "stream",
          "name": "stdout",
          "text": [
            "lamda= 5\ndf(lamda), ddf(lamda)= 19.99945520084285, 4.0010895983143\nUpdated lamda= 0.0014977896848833439\n----------------------------------------\nlamda= 0.0014977896848833439\ndf(lamda), ddf(lamda)= -11.95811567607643, 27.928213669631926\nUpdated lamda= 0.42967109921091395\n----------------------------------------\nlamda= 0.42967109921091395\ndf(lamda), ddf(lamda)= -3.3626019700579177, 14.162572733803147\nUpdated lamda= 0.6670998512647042\n----------------------------------------\nlamda= 0.6670998512647042\ndf(lamda), ddf(lamda)= -0.49202696982859084, 10.320852749774815\nUpdated lamda= 0.7147729439594261\n----------------------------------------\nlamda= 0.7147729439594261\ndf(lamda), ddf(lamda)= -0.013919664103314577, 9.746022879882037\nUpdated lamda= 0.7162011844093894\n----------------------------------------\nlamda= 0.7162011844093894\ndf(lamda), ddf(lamda)= -1.1709991747377302e-05, 9.72963289525861\nUpdated lamda= 0.7162023879482972\n----------------------------------------\nNumber of iterations= 6\nThe optima with Newton's method= 0.7162023879482972\n"
          ]
        }
      ]
    },
    {
      "cell_type": "markdown",
      "metadata": {
        "id": "51uOndPBEZ1Z"
      },
      "source": [
        "### Cyclic cordinate method"
      ]
    },
    {
      "cell_type": "code",
      "metadata": {
        "id": "_zJqcVNIEZQm"
      },
      "source": [
        "def rang(x,y,j):\n",
        "    if j==0:\n",
        "        l=x-2\n",
        "        u=x+2\n",
        "        return l,u,y\n",
        "    elif j==1:\n",
        "        l=y-2\n",
        "        u=y+2\n",
        "        return l,u,x"
      ],
      "execution_count": 46,
      "outputs": []
    },
    {
      "cell_type": "code",
      "metadata": {
        "id": "IOoGMEkPEnHz"
      },
      "source": [
        "def golden_search(l,a,b,c,j):\n",
        "    # print(a,b)\n",
        "    # print(type(a),type(b))\n",
        "    alpha=0.618\n",
        "    if j==0:\n",
        "        if abs(b-a)>=0.0001:\n",
        "            lamda=a+((1-alpha)*(b-a))\n",
        "            mu=a+alpha*(b-a)\n",
        "            if f2(lamda,c)>f2(mu,c):\n",
        "                i,j,o,c=golden_search(l,lamda,b,c,j)\n",
        "                return i,j,(i+j)/2,c\n",
        "            else:\n",
        "                i,j,o,c=golden_search(l,a,mu,c,j)\n",
        "                return i,j,(i+j)/2,c\n",
        "        else:\n",
        "            return (a,b,(a+b)/2,c)\n",
        "    elif j==1:\n",
        "        if abs(b-a)>=0.0001:\n",
        "            lamda=a+((1-alpha)*(b-a))\n",
        "            mu=a+alpha*(b-a)\n",
        "            if f2(c,lamda)>f2(c,mu):\n",
        "                i,j,c,o=golden_search(l,lamda,b,c,j)\n",
        "                return i,j,c,(i+j)/2\n",
        "            else:\n",
        "                i,j,c,o=golden_search(l,a,mu,c,j)\n",
        "                return i,j,c,(i+j)/2\n",
        "        else:\n",
        "            return (a,b,c,(a+b)/2)"
      ],
      "execution_count": 47,
      "outputs": []
    },
    {
      "cell_type": "code",
      "metadata": {
        "id": "CPp3rGalEq2h"
      },
      "source": [
        "def cyclic_cordinate(l,x,y):\n",
        "    global count\n",
        "    count+=1\n",
        "    ox,oy=x,y\n",
        "    nx,ny=x,y\n",
        "\n",
        "    if count<10 or count>926:\n",
        "        print(\"f(xk= {}\".format(f2(x,y)))\n",
        "        print(\"Intial point= ({},{})\".format(x,y))\n",
        "    for j in range(2):\n",
        "        k,n,m=rang(nx,ny,j)\n",
        "        nox,noy=nx,ny\n",
        "        _,_,nx,ny=golden_search(l,k,n,m,j)\n",
        "        if count<10 or count>926:\n",
        "            if j==0:\n",
        "                print(\"lamda{}= {}\".format(j+1,nx-nox))\n",
        "            else:    \n",
        "                print(\"lamda{}= {}\".format(j+1,ny-noy))\n",
        "            print(\"point after updating= ({},{})\".format(nx,ny))\n",
        "            \n",
        "    if count<10 or count>926:\n",
        "        print(\"----------------------------------------\")\n",
        "    dist=((((nx-ox)**2)+((ny-oy)**2) )**0.5)\n",
        "    if dist<l:\n",
        "        print(\"Number of iterations= {}\".format(count))\n",
        "        return nx,ny\n",
        "    else:\n",
        "        p,q=cyclic_cordinate(l,nx,ny)\n",
        "        return p,q"
      ],
      "execution_count": 48,
      "outputs": []
    },
    {
      "cell_type": "code",
      "metadata": {
        "colab": {
          "base_uri": "https://localhost:8080/"
        },
        "id": "XM9O5x_8EvAN",
        "outputId": "9a4d51c8-11c6-493b-a00d-9fea7968f4d3"
      },
      "source": [
        "count=0\n",
        "print(\"printing the results first 9 and last 9 iterations because of too many iterations\")\n",
        "print(\"----------------------------------------\")\n",
        "x,y=cyclic_cordinate(0.0003,0,0)\n",
        "print(\"The optima with Newton's method= ({},{})\".format(x,y))\n"
      ],
      "execution_count": 49,
      "outputs": [
        {
          "output_type": "stream",
          "name": "stdout",
          "text": [
            "printing the results first 9 and last 9 iterations because of too many iterations\n----------------------------------------\nf(xk= 16\nIntial point= (0,0)\nlamda1= 1.1648643892763975\npoint after updating= (1.1648643892763975,0)\nlamda2= 0.5824501833513548\npoint after updating= (1.1648643892763975,0.5824501833513548)\n----------------------------------------\nf(xk= 0.4864385798244254\nIntial point= (1.1648643892763975,0.5824501833513548)\nlamda1= 0.30241939678875474\npoint after updating= (1.4672837860651522,0.5824501833513548)\nlamda2= 0.15120253046394017\npoint after updating= (1.4672837860651522,0.733652713815295)\n----------------------------------------\nf(xk= 0.0805348147096286\nIntial point= (1.4672837860651522,0.733652713815295)\nlamda1= 0.13031142048830668\npoint after updating= (1.5975952065534589,0.733652713815295)\nlamda2= 0.06515009722891507\npoint after updating= (1.5975952065534589,0.79880281104421)\n----------------------------------------\nf(xk= 0.026221201225695136\nIntial point= (1.5975952065534589,0.79880281104421)\nlamda1= 0.07208203518075629\npoint after updating= (1.6696772417342152,0.79880281104421)\nlamda2= 0.03603425806179461\npoint after updating= (1.6696772417342152,0.8348370691060046)\n----------------------------------------\nf(xk= 0.011905673975786298\nIntial point= (1.6696772417342152,0.8348370691060046)\nlamda1= 0.045975798203678364\npoint after updating= (1.7156530399378935,0.8348370691060046)\nlamda2= 0.022987522572222585\npoint after updating= (1.7156530399378935,0.8578245916782272)\n----------------------------------------\nf(xk= 0.00653723894580686\nIntial point= (1.7156530399378935,0.8578245916782272)\nlamda1= 0.03210712366969193\npoint after updating= (1.7477601636075855,0.8578245916782272)\nlamda2= 0.016064728833304787\npoint after updating= (1.7477601636075855,0.873889320511532)\n----------------------------------------\nf(xk= 0.004048132703220468\nIntial point= (1.7477601636075855,0.873889320511532)\nlamda1= 0.023842625955997843\npoint after updating= (1.7716027895635833,0.873889320511532)\nlamda2= 0.01191338585090651\npoint after updating= (1.7716027895635833,0.8858027063624385)\n----------------------------------------\nf(xk= 0.0027212170427094434\nIntial point= (1.7716027895635833,0.8858027063624385)\nlamda1= 0.018508597019156303\npoint after updating= (1.7901113865827396,0.8858027063624385)\nlamda2= 0.009245969846892965\npoint after updating= (1.7901113865827396,0.8950486762093315)\n----------------------------------------\nf(xk= 0.001940687274110532\nIntial point= (1.7901113865827396,0.8950486762093315)\nlamda1= 0.014820417984111156\npoint after updating= (1.8049318045668508,0.8950486762093315)\nlamda2= 0.007410607640944589\npoint after updating= (1.8049318045668508,0.9024592838502761)\n----------------------------------------\nNumber of iterations= 95\nThe optima with Newton's method= (1.9474921468091293,0.973735897809568)\n"
          ]
        }
      ]
    },
    {
      "cell_type": "markdown",
      "metadata": {
        "id": "Ips9mowkK9fN"
      },
      "source": [
        "### Hooke and Jeeve's method "
      ]
    },
    {
      "cell_type": "code",
      "metadata": {
        "id": "OlCFSys8FPNQ"
      },
      "source": [
        "def rang(x,y,j):\n",
        "    if j==0:\n",
        "        l=x-2\n",
        "        u=x+2\n",
        "        return l,u,y\n",
        "    elif j==1:\n",
        "        l=y-2\n",
        "        u=y+2\n",
        "        return l,u,x"
      ],
      "execution_count": 50,
      "outputs": []
    },
    {
      "cell_type": "code",
      "metadata": {
        "id": "p8dD9mSTjoe_"
      },
      "source": [],
      "execution_count": null,
      "outputs": []
    },
    {
      "cell_type": "code",
      "metadata": {
        "id": "hOZJ2xovLHRx"
      },
      "source": [
        "def golden_search(l,a,b,c,j):\n",
        "    # print(a,b)\n",
        "    # print(type(a),type(b))\n",
        "    alpha=0.618\n",
        "    if j==0:\n",
        "        if abs(b-a)>=0.0001:\n",
        "            lamda=a+((1-alpha)*(b-a))\n",
        "            mu=a+alpha*(b-a)\n",
        "            if f2(lamda,c)>f2(mu,c):\n",
        "                i,j,o,c=golden_search(l,lamda,b,c,j)\n",
        "                return i,j,(i+j)/2,c\n",
        "            else:\n",
        "                i,j,o,c=golden_search(l,a,mu,c,j)\n",
        "                return i,j,(i+j)/2,c\n",
        "        else:\n",
        "            return (a,b,(a+b)/2,c)\n",
        "    elif j==1:\n",
        "        if abs(b-a)>=0.0001:\n",
        "            lamda=a+((1-alpha)*(b-a))\n",
        "            mu=a+alpha*(b-a)\n",
        "            if f2(c,lamda)>f2(c,mu):\n",
        "                i,j,c,o=golden_search(l,lamda,b,c,j)\n",
        "                return i,j,c,(i+j)/2\n",
        "            else:\n",
        "                i,j,c,o=golden_search(l,a,mu,c,j)\n",
        "                return i,j,c,(i+j)/2\n",
        "        else:\n",
        "            return (a,b,c,(a+b)/2)"
      ],
      "execution_count": 51,
      "outputs": []
    },
    {
      "cell_type": "code",
      "metadata": {
        "id": "RAZSc_UrLJiy"
      },
      "source": [
        "def Golden_search_cross(l,lx,ly,ux,uy):\n",
        "    alpha=0.618\n",
        "    if ((((lx-ux)**2)+((ly-uy)**2) )**0.5)>=l:\n",
        "        lamdax=lx+((1-alpha)*(ux-lx))\n",
        "        lamday=ly+((1-alpha)*(uy-ly))\n",
        "        mux=lx+alpha*(ux-lx)\n",
        "        muy=ly+alpha*(uy-ly)\n",
        "        if f2(lamdax,lamday)>f2(mux,muy):\n",
        "            nx,ny=Golden_search_cross(l,lamdax,lamday,ux,uy)\n",
        "            return nx,ny\n",
        "        else :\n",
        "            nx,ny=Golden_search_cross(l,lx,ly,mux,muy)\n",
        "            return nx,ny\n",
        "    else:\n",
        "        return (ux+lx)/2,(uy+ly)/2"
      ],
      "execution_count": 52,
      "outputs": []
    },
    {
      "cell_type": "code",
      "metadata": {
        "colab": {
          "base_uri": "https://localhost:8080/"
        },
        "id": "amoCDHA1JGAK",
        "outputId": "31a1c81e-adb6-4c21-ff7a-de12f4460e60"
      },
      "source": [
        "def hooke_and_jeeves(l,x,y):\n",
        "    global count\n",
        "    count+=1\n",
        "    ox,oy=x,y\n",
        "    nx,ny=x,y\n",
        "    if count==1:\n",
        "        global lox,loy\n",
        "        lox,loy=x,y\n",
        "    lamda=[]\n",
        "    print(\"f(xk)= {}\".format(f2(lox,loy)))\n",
        "    # if count%50==0:\n",
        "    #     print(\"Intial point= ({},{})\".format(x,y))\n",
        "    print(\"Intial point= ({},{})\".format(x,y))\n",
        "    for j in range(2):\n",
        "        k,n,m=rang(nx,ny,j)\n",
        "        nox,noy=nx,ny\n",
        "        _,_,nx,ny=golden_search(l,k,n,m,j)\n",
        "        # if count%50==0:\n",
        "        #     print(\"lamda= {},{}\".format(nx-nox,ny-noy))\n",
        "        #     print(\"point after updating= ({},{})\".format(nx,ny))\n",
        "        if j==0:\n",
        "            print(\"lamda{}= {}\".format(j+1,nx-nox))\n",
        "        else:\n",
        "            print(\"lamda{}= {}\".format(j+1,ny-noy))\n",
        "        print(\"point after updating= ({},{})\".format(nx,ny))\n",
        "    dist=((((nx-lox)**2)+((ny-loy)**2) )**0.5)\n",
        "    if dist<l:\n",
        "        print(\"----------------------------------------\")\n",
        "        print(\"Number of iterations= {}\".format(count))\n",
        "        return nx,ny\n",
        "    else:\n",
        "        d1,d2=nx-lox,ny-loy\n",
        "        lox,loy=nx,ny\n",
        "        lx=nx-2*(1/np.sqrt(1+(d2/d1)**2))\n",
        "        ux=nx+2*(1/np.sqrt(1+(d2/d1)**2))\n",
        "        cap=2*(1/np.sqrt(1+(d2/d1)**2))/d1\n",
        "        ly=ny-d2*cap\n",
        "        uy=ny+d2*cap\n",
        "        nox,noy=nx,ny\n",
        "        nx,ny=Golden_search_cross(l,lx,ly,ux,uy)\n",
        "        cap=(nx-nox)/d1\n",
        "        print(\"d= ({},{})\".format(d1,d2))\n",
        "        print(\"lamda cap= {}\".format(cap))\n",
        "        # print((nx-nox)/d1,(ny-noy)/d2)\n",
        "        print(\"point after updating= ({},{})\".format(nx,ny))\n",
        "        print(\"----------------------------------------\")\n",
        "        p,q=hooke_and_jeeves(l,nx,ny)\n",
        "        return p,q\n",
        "\n",
        "\n",
        "count=0\n",
        "lox,loy=0,0\n",
        "x,y=hooke_and_jeeves(0.0001,0,0)\n",
        "print(\"The optima with hook and jeeve's method= ({},{})\".format(x,y))\n"
      ],
      "execution_count": 53,
      "outputs": [
        {
          "output_type": "stream",
          "name": "stdout",
          "text": [
            "f(xk)= 16\nIntial point= (0,0)\nlamda1= 1.1648643892763975\npoint after updating= (1.1648643892763975,0)\nlamda2= 0.5824501833513548\npoint after updating= (1.1648643892763975,0.5824501833513548)\nd= (1.1648643892763975,0.5824501833513548)\nlamda cap= 0.7160872021190449\npoint after updating= (1.9990088706414428,0.9995353055211509)\n----------------------------------------\nf(xk)= 0.4864385798244254\nIntial point= (1.9990088706414428,0.9995353055211509)\nlamda1= 5.562771239420172e-05\npoint after updating= (1.999064498353837,0.9995353055211509)\nlamda2= 1.0318148572774355e-05\npoint after updating= (1.999064498353837,0.9995456236697237)\nd= (0.8342001090774396,0.41709544031836887)\nlamda cap= 0.0017528152836124688\npoint after updating= (2.000526697054619,1.0002767149322391)\n----------------------------------------\nf(xk)= 7.162741420331473e-10\nIntial point= (2.000526697054619,1.0002767149322391)\nlamda1= 1.032581700277646e-05\npoint after updating= (2.000537022871622,1.0002767149322391)\nlamda2= 1.0318148572663333e-05\npoint after updating= (2.000537022871622,1.0002870330808118)\nd= (0.0014725245177849011,0.0007414094110881342)\nlamda cap= -2.6093570012381884\npoint after updating= (1.996694680711645,0.998352431243205)\n----------------------------------------\nf(xk)= 1.3722885049943372e-09\nIntial point= (1.996694680711645,0.998352431243205)\nlamda1= 1.708376242559595e-05\npoint after updating= (1.9967117644740706,0.998352431243205)\nlamda2= -1.0318148572663333e-05\npoint after updating= (1.9967117644740706,0.9983421130946324)\nd= (-0.0038252583975513232,-0.0019449199861794053)\nlamda cap= -0.436968551512445\npoint after updating= (1.9983832820952094,0.9991919819638008)\n----------------------------------------\nf(xk)= 8.752671321974707e-10\nIntial point= (1.9983832820952094,0.9991919819638008)\nlamda1= -1.0318148572885377e-05\npoint after updating= (1.9983729639466365,0.9991919819638008)\nlamda2= 1.0318148572663333e-05\npoint after updating= (1.9983729639466365,0.9992023001123734)\nd= (0.001661199472565933,0.0008601870177410431)\nlamda cap= -0.5112241306971991\npoint after updating= (1.9975237186903594,0.998762551751992)\n----------------------------------------\nf(xk)= 1.007862005746305e-09\nIntial point= (1.9975237186903594,0.998762551751992)\nlamda1= 1.708376242515186e-05\npoint after updating= (1.9975408024527845,0.998762551751992)\nlamda2= -1.0318148572774355e-05\npoint after updating= (1.9975408024527845,0.9987522336034192)\nd= (-0.0008321614938520128,-0.0004500665089541833)\nlamda cap= -0.544780105363604\npoint after updating= (1.9979941474790848,0.9989974208835879)\n----------------------------------------\nf(xk)= 1.3568241996419869e-09\nIntial point= (1.9979941474790848,0.9989974208835879)\nlamda1= -1.0318148572885377e-05\npoint after updating= (1.9979838293305119,0.9989974208835879)\nlamda2= 1.0318148572774355e-05\npoint after updating= (1.9979838293305119,0.9990077390321607)\nd= (0.0004430268777273483,0.00025550542874142046)\nlamda cap= -0.4832046884120917\npoint after updating= (1.9977697566661015,0.9988842776110781)\n----------------------------------------\nf(xk)= 1.0181661228346616e-09\nIntial point= (1.9977697566661015,0.9988842776110781)\nlamda1= -1.0318148572663333e-05\npoint after updating= (1.9977594385175288,0.9988842776110781)\nlamda2= 1.0318148572663333e-05\npoint after updating= (1.9977594385175288,0.9988945957596508)\nd= (-0.0002243908129830885,-0.00011314327250988576)\nlamda cap= 7.763292952198671\npoint after updating= (1.996017426900559,0.9980162313895862)\n----------------------------------------\nf(xk)= 9.104426767014504e-10\nIntial point= (1.996017426900559,0.9980162313895862)\nlamda1= 1.708376242515186e-05\npoint after updating= (1.9960345106629842,0.9980162313895862)\nlamda2= -1.0318148572663333e-05\npoint after updating= (1.9960345106629842,0.9980059132410135)\nd= (-0.001724927854544589,-0.0008886825186372738)\nlamda cap= -0.4736626758356168\npoint after updating= (1.9968515446061912,0.9984268489807597)\n----------------------------------------\nf(xk)= 7.6185101440811e-10\nIntial point= (1.9968515446061912,0.9984268489807597)\nlamda1= 1.708376242515186e-05\npoint after updating= (1.9968686283686163,0.9984268489807597)\nlamda2= -1.0318148572663333e-05\npoint after updating= (1.9968686283686163,0.9984165308321871)\nd= (0.0008341177056321314,0.00041061759117355656)\nlamda cap= -1.772682218682195\npoint after updating= (1.9953900027435543,0.9976886363296358)\n----------------------------------------\nf(xk)= 1.361138051333147e-09\nIntial point= (1.9953900027435543,0.9976886363296358)\nlamda1= -2.1452519113340784e-05\npoint after updating= (1.995368550224441,0.9976886363296358)\nlamda2= 1.0318148572774355e-05\npoint after updating= (1.995368550224441,0.9976989544782086)\nd= (-0.0015000781441754096,-0.0007175763539785107)\nlamda cap= -0.4920321704610843\npoint after updating= (1.9961066369295808,0.998052025129128)\n----------------------------------------\nf(xk)= 1.3220516726654628e-09\nIntial point= (1.9961066369295808,0.998052025129128)\nlamda1= -2.1452519113784874e-05\npoint after updating= (1.996085184410467,0.998052025129128)\nlamda2= -2.82181329662734e-05\npoint after updating= (1.996085184410467,0.9980238069961618)\nd= (0.0007166341860260772,0.00032485251795322245)\nlamda cap= -0.5133774154800583\npoint after updating= (1.9957172806042003,0.9978570350500827)\n----------------------------------------\nf(xk)= 1.646415885800425e-09\nIntial point= (1.9957172806042003,0.9978570350500827)\nlamda1= -2.1452519113340784e-05\npoint after updating= (1.995695828085087,0.9978570350500827)\nlamda2= -2.8218132966384424e-05\npoint after updating= (1.995695828085087,0.9978288169171163)\nd= (-0.0003893563253800636,-0.00019499007904544285)\nlamda cap= -18.197990931439378\npoint after updating= (2.002781330963452,1.0013772446073057)\n----------------------------------------\nf(xk)= 1.802009616221068e-09\nIntial point= (2.002781330963452,1.0013772446073057)\nlamda1= -1.7091430855487033e-05\npoint after updating= (2.0027642395325964,1.0013772446073057)\nlamda2= -1.0318148572663333e-05\npoint after updating= (2.0027642395325964,1.001366926458733)\nd= (0.007068411447509471,0.0035381095416167074)\nlamda cap= -0.028763335807621637\npoint after updating= (2.0025609284405053,1.0012651586258632)\n----------------------------------------\nf(xk)= 9.817315686772611e-10\nIntial point= (2.0025609284405053,1.0012651586258632)\nlamda1= -1.7091430855487033e-05\npoint after updating= (2.0025438370096498,1.0012651586258632)\nlamda2= -1.0318148572663333e-05\npoint after updating= (2.0025438370096498,1.0012548404772905)\nd= (-0.00022040252294663887,-0.00011208598144252235)\nlamda cap= -6.976932720171768\npoint after updating= (2.0040815705836046,1.0020368568286897)\n----------------------------------------\nf(xk)= 1.2085113201910273e-09\nIntial point= (2.0040815705836046,1.0020368568286897)\nlamda1= -1.708376242559595e-05\npoint after updating= (2.004064486821179,1.0020368568286897)\nlamda2= 1.0318148572663333e-05\npoint after updating= (2.004064486821179,1.0020471749772624)\nd= (0.0015206498115292177,0.0007923344999718474)\nlamda cap= -0.4996370569813\npoint after updating= (2.0033047138246474,1.0016512952995513)\n----------------------------------------\nf(xk)= 1.1647188882979273e-09\nIntial point= (2.0033047138246474,1.0016512952995513)\nlamda1= -1.708376242559595e-05\npoint after updating= (2.0032876300622218,1.0016512952995513)\nlamda2= 1.0318148572663333e-05\npoint after updating= (2.0032876300622218,1.001661613448124)\nd= (-0.0007768567589572228,-0.0003855615291383785)\nlamda cap= -1.6845392621269373\npoint after updating= (2.004596275773734,1.0023111069819233)\n----------------------------------------\nf(xk)= 1.3839585119359019e-09\nIntial point= (2.004596275773734,1.0023111069819233)\nlamda1= 2.145251911356283e-05\npoint after updating= (2.0046177282928475,1.0023111069819233)\nlamda2= 1.0318148572663333e-05\npoint after updating= (2.0046177282928475,1.002321425130496)\nd= (0.001330098230625687,0.0006598116823719469)\nlamda cap= 0.008820058502752692\npoint after updating= (2.004629459837056,1.0023272447081348)\n----------------------------------------\nf(xk)= 1.0858012930794777e-09\nIntial point= (2.004629459837056,1.0023272447081348)\nlamda1= 2.145251911356283e-05\npoint after updating= (2.0046509123561695,1.0023272447081348)\nlamda2= 1.0318148572663333e-05\npoint after updating= (2.0046509123561695,1.0023375628567075)\n----------------------------------------\nNumber of iterations= 19\nThe optima with hook and jeeve's method= (2.0046509123561695,1.0023375628567075)\n"
          ]
        }
      ]
    },
    {
      "cell_type": "code",
      "metadata": {
        "colab": {
          "base_uri": "https://localhost:8080/",
          "height": 621
        },
        "id": "4dxvuB_HHUxt",
        "outputId": "c11c5061-fc06-440e-bc98-8b91afc7dc94"
      },
      "source": [
        "feature_x = np.linspace(-20.0, 20.0, 70)\n",
        "feature_y = np.linspace(-20.0, 20.0, 70)\n",
        "  \n",
        "# Creating 2-D grid of features\n",
        "[X, Y] = np.meshgrid(feature_x, feature_y)\n",
        "  \n",
        "fig, ax = plt.subplots(1, 1,figsize=(10, 10))\n",
        "  \n",
        "Z = f2(X,Y)\n",
        "  \n",
        "# plots filled contour plot\n",
        "ax.contour(X, Y, Z,[5,100,1000,10000,100000,1000000])\n",
        "  \n",
        "ax.set_title('Contour Plot')\n",
        "ax.set_xlabel('Variable 1 (y1)')\n",
        "ax.set_ylabel('Variable 2 (y2)')\n",
        "ax.plot(points_x,points_y)\n",
        "ax.plot(p_x,p_y,linestyle='dotted')\n",
        "plt.xlim([-10,14])\n",
        "plt.ylim([-10,14])  \n",
        "plt.show()"
      ],
      "execution_count": 54,
      "outputs": [
        {
          "output_type": "display_data",
          "data": {
            "text/plain": "<Figure size 720x720 with 1 Axes>",
            "image/svg+xml": "<?xml version=\"1.0\" encoding=\"utf-8\" standalone=\"no\"?>\n<!DOCTYPE svg PUBLIC \"-//W3C//DTD SVG 1.1//EN\"\n  \"http://www.w3.org/Graphics/SVG/1.1/DTD/svg11.dtd\">\n<svg height=\"603.474375pt\" version=\"1.1\" viewBox=\"0 0 614.182812 603.474375\" width=\"614.182812pt\" xmlns=\"http://www.w3.org/2000/svg\" xmlns:xlink=\"http://www.w3.org/1999/xlink\">\n <metadata>\n  <rdf:RDF xmlns:cc=\"http://creativecommons.org/ns#\" xmlns:dc=\"http://purl.org/dc/elements/1.1/\" xmlns:rdf=\"http://www.w3.org/1999/02/22-rdf-syntax-ns#\">\n   <cc:Work>\n    <dc:type rdf:resource=\"http://purl.org/dc/dcmitype/StillImage\"/>\n    <dc:date>2021-05-28T12:52:36.302260</dc:date>\n    <dc:format>image/svg+xml</dc:format>\n    <dc:creator>\n     <cc:Agent>\n      <dc:title>Matplotlib v3.4.2, https://matplotlib.org/</dc:title>\n     </cc:Agent>\n    </dc:creator>\n   </cc:Work>\n  </rdf:RDF>\n </metadata>\n <defs>\n  <style type=\"text/css\">*{stroke-linecap:butt;stroke-linejoin:round;}</style>\n </defs>\n <g id=\"figure_1\">\n  <g id=\"patch_1\">\n   <path d=\"M 0 603.474375 \nL 614.182812 603.474375 \nL 614.182812 0 \nL 0 0 \nz\n\" style=\"fill:none;\"/>\n  </g>\n  <g id=\"axes_1\">\n   <g id=\"patch_2\">\n    <path d=\"M 48.982812 565.918125 \nL 606.982813 565.918125 \nL 606.982813 22.318125 \nL 48.982812 22.318125 \nz\n\" style=\"fill:#ffffff;\"/>\n   </g>\n   <g id=\"matplotlib.axis_1\">\n    <g id=\"xtick_1\">\n     <g id=\"line2d_1\">\n      <defs>\n       <path d=\"M 0 0 \nL 0 3.5 \n\" id=\"m861b6f3a9d\" style=\"stroke:#000000;stroke-width:0.8;\"/>\n      </defs>\n      <g>\n       <use style=\"stroke:#000000;stroke-width:0.8;\" x=\"48.982812\" xlink:href=\"#m861b6f3a9d\" y=\"565.918125\"/>\n      </g>\n     </g>\n     <g id=\"text_1\">\n      <!-- −10 -->\n      <g transform=\"translate(38.430469 580.516562)scale(0.1 -0.1)\">\n       <defs>\n        <path d=\"M 678 2272 \nL 4684 2272 \nL 4684 1741 \nL 678 1741 \nL 678 2272 \nz\n\" id=\"DejaVuSans-2212\" transform=\"scale(0.015625)\"/>\n        <path d=\"M 794 531 \nL 1825 531 \nL 1825 4091 \nL 703 3866 \nL 703 4441 \nL 1819 4666 \nL 2450 4666 \nL 2450 531 \nL 3481 531 \nL 3481 0 \nL 794 0 \nL 794 531 \nz\n\" id=\"DejaVuSans-31\" transform=\"scale(0.015625)\"/>\n        <path d=\"M 2034 4250 \nQ 1547 4250 1301 3770 \nQ 1056 3291 1056 2328 \nQ 1056 1369 1301 889 \nQ 1547 409 2034 409 \nQ 2525 409 2770 889 \nQ 3016 1369 3016 2328 \nQ 3016 3291 2770 3770 \nQ 2525 4250 2034 4250 \nz\nM 2034 4750 \nQ 2819 4750 3233 4129 \nQ 3647 3509 3647 2328 \nQ 3647 1150 3233 529 \nQ 2819 -91 2034 -91 \nQ 1250 -91 836 529 \nQ 422 1150 422 2328 \nQ 422 3509 836 4129 \nQ 1250 4750 2034 4750 \nz\n\" id=\"DejaVuSans-30\" transform=\"scale(0.015625)\"/>\n       </defs>\n       <use xlink:href=\"#DejaVuSans-2212\"/>\n       <use x=\"83.789062\" xlink:href=\"#DejaVuSans-31\"/>\n       <use x=\"147.412109\" xlink:href=\"#DejaVuSans-30\"/>\n      </g>\n     </g>\n    </g>\n    <g id=\"xtick_2\">\n     <g id=\"line2d_2\">\n      <g>\n       <use style=\"stroke:#000000;stroke-width:0.8;\" x=\"165.232812\" xlink:href=\"#m861b6f3a9d\" y=\"565.918125\"/>\n      </g>\n     </g>\n     <g id=\"text_2\">\n      <!-- −5 -->\n      <g transform=\"translate(157.861719 580.516562)scale(0.1 -0.1)\">\n       <defs>\n        <path d=\"M 691 4666 \nL 3169 4666 \nL 3169 4134 \nL 1269 4134 \nL 1269 2991 \nQ 1406 3038 1543 3061 \nQ 1681 3084 1819 3084 \nQ 2600 3084 3056 2656 \nQ 3513 2228 3513 1497 \nQ 3513 744 3044 326 \nQ 2575 -91 1722 -91 \nQ 1428 -91 1123 -41 \nQ 819 9 494 109 \nL 494 744 \nQ 775 591 1075 516 \nQ 1375 441 1709 441 \nQ 2250 441 2565 725 \nQ 2881 1009 2881 1497 \nQ 2881 1984 2565 2268 \nQ 2250 2553 1709 2553 \nQ 1456 2553 1204 2497 \nQ 953 2441 691 2322 \nL 691 4666 \nz\n\" id=\"DejaVuSans-35\" transform=\"scale(0.015625)\"/>\n       </defs>\n       <use xlink:href=\"#DejaVuSans-2212\"/>\n       <use x=\"83.789062\" xlink:href=\"#DejaVuSans-35\"/>\n      </g>\n     </g>\n    </g>\n    <g id=\"xtick_3\">\n     <g id=\"line2d_3\">\n      <g>\n       <use style=\"stroke:#000000;stroke-width:0.8;\" x=\"281.482812\" xlink:href=\"#m861b6f3a9d\" y=\"565.918125\"/>\n      </g>\n     </g>\n     <g id=\"text_3\">\n      <!-- 0 -->\n      <g transform=\"translate(278.301562 580.516562)scale(0.1 -0.1)\">\n       <use xlink:href=\"#DejaVuSans-30\"/>\n      </g>\n     </g>\n    </g>\n    <g id=\"xtick_4\">\n     <g id=\"line2d_4\">\n      <g>\n       <use style=\"stroke:#000000;stroke-width:0.8;\" x=\"397.732812\" xlink:href=\"#m861b6f3a9d\" y=\"565.918125\"/>\n      </g>\n     </g>\n     <g id=\"text_4\">\n      <!-- 5 -->\n      <g transform=\"translate(394.551562 580.516562)scale(0.1 -0.1)\">\n       <use xlink:href=\"#DejaVuSans-35\"/>\n      </g>\n     </g>\n    </g>\n    <g id=\"xtick_5\">\n     <g id=\"line2d_5\">\n      <g>\n       <use style=\"stroke:#000000;stroke-width:0.8;\" x=\"513.982812\" xlink:href=\"#m861b6f3a9d\" y=\"565.918125\"/>\n      </g>\n     </g>\n     <g id=\"text_5\">\n      <!-- 10 -->\n      <g transform=\"translate(507.620312 580.516562)scale(0.1 -0.1)\">\n       <use xlink:href=\"#DejaVuSans-31\"/>\n       <use x=\"63.623047\" xlink:href=\"#DejaVuSans-30\"/>\n      </g>\n     </g>\n    </g>\n    <g id=\"text_6\">\n     <!-- Variable 1 (y1) -->\n     <g transform=\"translate(291.335938 594.194687)scale(0.1 -0.1)\">\n      <defs>\n       <path d=\"M 1831 0 \nL 50 4666 \nL 709 4666 \nL 2188 738 \nL 3669 4666 \nL 4325 4666 \nL 2547 0 \nL 1831 0 \nz\n\" id=\"DejaVuSans-56\" transform=\"scale(0.015625)\"/>\n       <path d=\"M 2194 1759 \nQ 1497 1759 1228 1600 \nQ 959 1441 959 1056 \nQ 959 750 1161 570 \nQ 1363 391 1709 391 \nQ 2188 391 2477 730 \nQ 2766 1069 2766 1631 \nL 2766 1759 \nL 2194 1759 \nz\nM 3341 1997 \nL 3341 0 \nL 2766 0 \nL 2766 531 \nQ 2569 213 2275 61 \nQ 1981 -91 1556 -91 \nQ 1019 -91 701 211 \nQ 384 513 384 1019 \nQ 384 1609 779 1909 \nQ 1175 2209 1959 2209 \nL 2766 2209 \nL 2766 2266 \nQ 2766 2663 2505 2880 \nQ 2244 3097 1772 3097 \nQ 1472 3097 1187 3025 \nQ 903 2953 641 2809 \nL 641 3341 \nQ 956 3463 1253 3523 \nQ 1550 3584 1831 3584 \nQ 2591 3584 2966 3190 \nQ 3341 2797 3341 1997 \nz\n\" id=\"DejaVuSans-61\" transform=\"scale(0.015625)\"/>\n       <path d=\"M 2631 2963 \nQ 2534 3019 2420 3045 \nQ 2306 3072 2169 3072 \nQ 1681 3072 1420 2755 \nQ 1159 2438 1159 1844 \nL 1159 0 \nL 581 0 \nL 581 3500 \nL 1159 3500 \nL 1159 2956 \nQ 1341 3275 1631 3429 \nQ 1922 3584 2338 3584 \nQ 2397 3584 2469 3576 \nQ 2541 3569 2628 3553 \nL 2631 2963 \nz\n\" id=\"DejaVuSans-72\" transform=\"scale(0.015625)\"/>\n       <path d=\"M 603 3500 \nL 1178 3500 \nL 1178 0 \nL 603 0 \nL 603 3500 \nz\nM 603 4863 \nL 1178 4863 \nL 1178 4134 \nL 603 4134 \nL 603 4863 \nz\n\" id=\"DejaVuSans-69\" transform=\"scale(0.015625)\"/>\n       <path d=\"M 3116 1747 \nQ 3116 2381 2855 2742 \nQ 2594 3103 2138 3103 \nQ 1681 3103 1420 2742 \nQ 1159 2381 1159 1747 \nQ 1159 1113 1420 752 \nQ 1681 391 2138 391 \nQ 2594 391 2855 752 \nQ 3116 1113 3116 1747 \nz\nM 1159 2969 \nQ 1341 3281 1617 3432 \nQ 1894 3584 2278 3584 \nQ 2916 3584 3314 3078 \nQ 3713 2572 3713 1747 \nQ 3713 922 3314 415 \nQ 2916 -91 2278 -91 \nQ 1894 -91 1617 61 \nQ 1341 213 1159 525 \nL 1159 0 \nL 581 0 \nL 581 4863 \nL 1159 4863 \nL 1159 2969 \nz\n\" id=\"DejaVuSans-62\" transform=\"scale(0.015625)\"/>\n       <path d=\"M 603 4863 \nL 1178 4863 \nL 1178 0 \nL 603 0 \nL 603 4863 \nz\n\" id=\"DejaVuSans-6c\" transform=\"scale(0.015625)\"/>\n       <path d=\"M 3597 1894 \nL 3597 1613 \nL 953 1613 \nQ 991 1019 1311 708 \nQ 1631 397 2203 397 \nQ 2534 397 2845 478 \nQ 3156 559 3463 722 \nL 3463 178 \nQ 3153 47 2828 -22 \nQ 2503 -91 2169 -91 \nQ 1331 -91 842 396 \nQ 353 884 353 1716 \nQ 353 2575 817 3079 \nQ 1281 3584 2069 3584 \nQ 2775 3584 3186 3129 \nQ 3597 2675 3597 1894 \nz\nM 3022 2063 \nQ 3016 2534 2758 2815 \nQ 2500 3097 2075 3097 \nQ 1594 3097 1305 2825 \nQ 1016 2553 972 2059 \nL 3022 2063 \nz\n\" id=\"DejaVuSans-65\" transform=\"scale(0.015625)\"/>\n       <path id=\"DejaVuSans-20\" transform=\"scale(0.015625)\"/>\n       <path d=\"M 1984 4856 \nQ 1566 4138 1362 3434 \nQ 1159 2731 1159 2009 \nQ 1159 1288 1364 580 \nQ 1569 -128 1984 -844 \nL 1484 -844 \nQ 1016 -109 783 600 \nQ 550 1309 550 2009 \nQ 550 2706 781 3412 \nQ 1013 4119 1484 4856 \nL 1984 4856 \nz\n\" id=\"DejaVuSans-28\" transform=\"scale(0.015625)\"/>\n       <path d=\"M 2059 -325 \nQ 1816 -950 1584 -1140 \nQ 1353 -1331 966 -1331 \nL 506 -1331 \nL 506 -850 \nL 844 -850 \nQ 1081 -850 1212 -737 \nQ 1344 -625 1503 -206 \nL 1606 56 \nL 191 3500 \nL 800 3500 \nL 1894 763 \nL 2988 3500 \nL 3597 3500 \nL 2059 -325 \nz\n\" id=\"DejaVuSans-79\" transform=\"scale(0.015625)\"/>\n       <path d=\"M 513 4856 \nL 1013 4856 \nQ 1481 4119 1714 3412 \nQ 1947 2706 1947 2009 \nQ 1947 1309 1714 600 \nQ 1481 -109 1013 -844 \nL 513 -844 \nQ 928 -128 1133 580 \nQ 1338 1288 1338 2009 \nQ 1338 2731 1133 3434 \nQ 928 4138 513 4856 \nz\n\" id=\"DejaVuSans-29\" transform=\"scale(0.015625)\"/>\n      </defs>\n      <use xlink:href=\"#DejaVuSans-56\"/>\n      <use x=\"60.658203\" xlink:href=\"#DejaVuSans-61\"/>\n      <use x=\"121.9375\" xlink:href=\"#DejaVuSans-72\"/>\n      <use x=\"163.050781\" xlink:href=\"#DejaVuSans-69\"/>\n      <use x=\"190.833984\" xlink:href=\"#DejaVuSans-61\"/>\n      <use x=\"252.113281\" xlink:href=\"#DejaVuSans-62\"/>\n      <use x=\"315.589844\" xlink:href=\"#DejaVuSans-6c\"/>\n      <use x=\"343.373047\" xlink:href=\"#DejaVuSans-65\"/>\n      <use x=\"404.896484\" xlink:href=\"#DejaVuSans-20\"/>\n      <use x=\"436.683594\" xlink:href=\"#DejaVuSans-31\"/>\n      <use x=\"500.306641\" xlink:href=\"#DejaVuSans-20\"/>\n      <use x=\"532.09375\" xlink:href=\"#DejaVuSans-28\"/>\n      <use x=\"571.107422\" xlink:href=\"#DejaVuSans-79\"/>\n      <use x=\"630.287109\" xlink:href=\"#DejaVuSans-31\"/>\n      <use x=\"693.910156\" xlink:href=\"#DejaVuSans-29\"/>\n     </g>\n    </g>\n   </g>\n   <g id=\"matplotlib.axis_2\">\n    <g id=\"ytick_1\">\n     <g id=\"line2d_6\">\n      <defs>\n       <path d=\"M 0 0 \nL -3.5 0 \n\" id=\"m2652f7ee59\" style=\"stroke:#000000;stroke-width:0.8;\"/>\n      </defs>\n      <g>\n       <use style=\"stroke:#000000;stroke-width:0.8;\" x=\"48.982812\" xlink:href=\"#m2652f7ee59\" y=\"565.918125\"/>\n      </g>\n     </g>\n     <g id=\"text_7\">\n      <!-- −10 -->\n      <g transform=\"translate(20.878125 569.717344)scale(0.1 -0.1)\">\n       <use xlink:href=\"#DejaVuSans-2212\"/>\n       <use x=\"83.789062\" xlink:href=\"#DejaVuSans-31\"/>\n       <use x=\"147.412109\" xlink:href=\"#DejaVuSans-30\"/>\n      </g>\n     </g>\n    </g>\n    <g id=\"ytick_2\">\n     <g id=\"line2d_7\">\n      <g>\n       <use style=\"stroke:#000000;stroke-width:0.8;\" x=\"48.982812\" xlink:href=\"#m2652f7ee59\" y=\"452.668125\"/>\n      </g>\n     </g>\n     <g id=\"text_8\">\n      <!-- −5 -->\n      <g transform=\"translate(27.240625 456.467344)scale(0.1 -0.1)\">\n       <use xlink:href=\"#DejaVuSans-2212\"/>\n       <use x=\"83.789062\" xlink:href=\"#DejaVuSans-35\"/>\n      </g>\n     </g>\n    </g>\n    <g id=\"ytick_3\">\n     <g id=\"line2d_8\">\n      <g>\n       <use style=\"stroke:#000000;stroke-width:0.8;\" x=\"48.982812\" xlink:href=\"#m2652f7ee59\" y=\"339.418125\"/>\n      </g>\n     </g>\n     <g id=\"text_9\">\n      <!-- 0 -->\n      <g transform=\"translate(35.620312 343.217344)scale(0.1 -0.1)\">\n       <use xlink:href=\"#DejaVuSans-30\"/>\n      </g>\n     </g>\n    </g>\n    <g id=\"ytick_4\">\n     <g id=\"line2d_9\">\n      <g>\n       <use style=\"stroke:#000000;stroke-width:0.8;\" x=\"48.982812\" xlink:href=\"#m2652f7ee59\" y=\"226.168125\"/>\n      </g>\n     </g>\n     <g id=\"text_10\">\n      <!-- 5 -->\n      <g transform=\"translate(35.620312 229.967344)scale(0.1 -0.1)\">\n       <use xlink:href=\"#DejaVuSans-35\"/>\n      </g>\n     </g>\n    </g>\n    <g id=\"ytick_5\">\n     <g id=\"line2d_10\">\n      <g>\n       <use style=\"stroke:#000000;stroke-width:0.8;\" x=\"48.982812\" xlink:href=\"#m2652f7ee59\" y=\"112.918125\"/>\n      </g>\n     </g>\n     <g id=\"text_11\">\n      <!-- 10 -->\n      <g transform=\"translate(29.257812 116.717344)scale(0.1 -0.1)\">\n       <use xlink:href=\"#DejaVuSans-31\"/>\n       <use x=\"63.623047\" xlink:href=\"#DejaVuSans-30\"/>\n      </g>\n     </g>\n    </g>\n    <g id=\"text_12\">\n     <!-- Variable 2 (y2) -->\n     <g transform=\"translate(14.798437 330.765)rotate(-90)scale(0.1 -0.1)\">\n      <defs>\n       <path d=\"M 1228 531 \nL 3431 531 \nL 3431 0 \nL 469 0 \nL 469 531 \nQ 828 903 1448 1529 \nQ 2069 2156 2228 2338 \nQ 2531 2678 2651 2914 \nQ 2772 3150 2772 3378 \nQ 2772 3750 2511 3984 \nQ 2250 4219 1831 4219 \nQ 1534 4219 1204 4116 \nQ 875 4013 500 3803 \nL 500 4441 \nQ 881 4594 1212 4672 \nQ 1544 4750 1819 4750 \nQ 2544 4750 2975 4387 \nQ 3406 4025 3406 3419 \nQ 3406 3131 3298 2873 \nQ 3191 2616 2906 2266 \nQ 2828 2175 2409 1742 \nQ 1991 1309 1228 531 \nz\n\" id=\"DejaVuSans-32\" transform=\"scale(0.015625)\"/>\n      </defs>\n      <use xlink:href=\"#DejaVuSans-56\"/>\n      <use x=\"60.658203\" xlink:href=\"#DejaVuSans-61\"/>\n      <use x=\"121.9375\" xlink:href=\"#DejaVuSans-72\"/>\n      <use x=\"163.050781\" xlink:href=\"#DejaVuSans-69\"/>\n      <use x=\"190.833984\" xlink:href=\"#DejaVuSans-61\"/>\n      <use x=\"252.113281\" xlink:href=\"#DejaVuSans-62\"/>\n      <use x=\"315.589844\" xlink:href=\"#DejaVuSans-6c\"/>\n      <use x=\"343.373047\" xlink:href=\"#DejaVuSans-65\"/>\n      <use x=\"404.896484\" xlink:href=\"#DejaVuSans-20\"/>\n      <use x=\"436.683594\" xlink:href=\"#DejaVuSans-32\"/>\n      <use x=\"500.306641\" xlink:href=\"#DejaVuSans-20\"/>\n      <use x=\"532.09375\" xlink:href=\"#DejaVuSans-28\"/>\n      <use x=\"571.107422\" xlink:href=\"#DejaVuSans-79\"/>\n      <use x=\"630.287109\" xlink:href=\"#DejaVuSans-32\"/>\n      <use x=\"693.910156\" xlink:href=\"#DejaVuSans-29\"/>\n     </g>\n    </g>\n   </g>\n   <g id=\"LineCollection_1\">\n    <path clip-path=\"url(#p8f6a44d712)\" d=\"M 301.700204 349.51822 \nL 298.63856 345.983342 \nL 295.306076 332.852908 \nL 297.442247 319.722473 \nL 301.700204 309.52147 \nL 304.540934 306.592038 \nL 315.178465 298.756546 \nL 324.375398 293.461603 \nL 328.656726 291.54447 \nL 342.134986 285.752502 \nL 355.613247 284.673536 \nL 359.879124 293.461603 \nL 360.272538 306.592038 \nL 356.858526 319.722473 \nL 355.613247 322.248111 \nL 344.346669 332.852908 \nL 342.134986 334.472063 \nL 328.656726 340.945122 \nL 319.285644 345.983342 \nL 315.178465 347.700802 \nL 301.700204 349.51822 \n\" style=\"fill:none;stroke:#440154;stroke-width:1.5;\"/>\n   </g>\n   <g id=\"LineCollection_2\">\n    <path clip-path=\"url(#p8f6a44d712)\" d=\"M 274.743682 439.061561 \nL 273.937241 437.896386 \nL 266.385607 424.765951 \nL 261.265421 413.370298 \nL 260.894136 411.635516 \nL 258.670709 398.505082 \nL 257.047048 385.374647 \nL 255.989432 372.244212 \nL 255.466622 359.113777 \nL 255.449636 345.983342 \nL 255.91155 332.852908 \nL 256.827315 319.722473 \nL 258.173602 306.592038 \nL 259.928652 293.461603 \nL 261.265421 285.324534 \nL 262.657136 280.331168 \nL 266.925432 267.200734 \nL 271.691723 254.070299 \nL 274.743682 246.485937 \nL 278.56716 240.939864 \nL 288.221943 227.838823 \nL 288.257513 227.809429 \nL 301.700204 217.374046 \nL 306.432179 214.678995 \nL 315.178465 209.98228 \nL 328.656726 203.276903 \nL 332.142499 201.54856 \nL 342.134986 196.877124 \nL 355.613247 191.327258 \nL 369.091508 189.21639 \nL 382.569769 195.912161 \nL 385.854751 201.54856 \nL 392.079471 214.678995 \nL 396.04803 225.479078 \nL 396.469502 227.809429 \nL 398.302526 240.939864 \nL 399.587914 254.070299 \nL 400.35453 267.200734 \nL 400.629245 280.331168 \nL 400.437107 293.461603 \nL 399.80149 306.592038 \nL 398.744233 319.722473 \nL 397.285767 332.852908 \nL 396.04803 341.636446 \nL 395.010012 345.983342 \nL 391.267598 359.113777 \nL 387.019929 372.244212 \nL 382.569769 384.620183 \nL 382.101633 385.374647 \nL 373.168296 398.505082 \nL 369.091508 404.121468 \nL 360.18346 411.635516 \nL 355.613247 415.27026 \nL 342.134986 422.956341 \nL 338.571967 424.765951 \nL 328.656726 429.51401 \nL 315.178465 436.113586 \nL 311.072278 437.896386 \nL 301.700204 441.732977 \nL 288.221943 444.235045 \nL 274.743682 439.061561 \n\" style=\"fill:none;stroke:#440154;stroke-width:1.5;\"/>\n   </g>\n   <g id=\"LineCollection_3\">\n    <path clip-path=\"url(#p8f6a44d712)\" d=\"M 214.567744 604.474375 \nL 212.826614 595.461603 \nL 210.460864 582.331168 \nL 207.352378 563.332508 \nL 205.25739 542.939864 \nL 202.959888 516.678995 \nL 201.08651 490.418125 \nL 199.628098 464.157255 \nL 198.575757 437.896386 \nL 197.920844 411.635516 \nL 197.65496 385.374647 \nL 197.769941 359.113777 \nL 198.257849 332.852908 \nL 199.110965 306.592038 \nL 200.321784 280.331168 \nL 201.883002 254.070299 \nL 203.787515 227.809429 \nL 206.028408 201.54856 \nL 207.352378 187.633485 \nL 210.990222 162.157255 \nL 215.156501 135.896386 \nL 219.730706 109.635516 \nL 220.830639 103.722839 \nL 222.705021 96.505082 \nL 226.249408 83.374647 \nL 229.91637 70.244212 \nL 234.308899 55.089352 \nL 239.029175 43.983342 \nL 247.78716 24.08139 \nL 251.88913 17.722473 \nL 261.265421 3.511446 \nL 265.612919 -1 \nM 434.72374 -1 \nL 436.555405 4.592038 \nL 439.253944 17.722473 \nL 441.785081 30.852908 \nL 444.151399 43.983342 \nL 446.35543 57.113777 \nL 448.399656 70.244212 \nL 450.189934 83.374647 \nL 452.526065 109.635516 \nL 454.450362 135.896386 \nL 455.971447 162.157255 \nL 457.097708 188.418125 \nL 457.837297 214.678995 \nL 458.198148 240.939864 \nL 458.187976 267.200734 \nL 457.814288 293.461603 \nL 457.084391 319.722473 \nL 456.005398 345.983342 \nL 454.584233 372.244212 \nL 452.827637 398.505082 \nL 450.742176 424.765951 \nL 449.961073 433.567322 \nL 447.733098 451.026821 \nL 444.016438 477.28769 \nL 439.894315 503.54856 \nL 436.482813 523.503543 \nL 434.935724 529.809429 \nL 431.580849 542.939864 \nL 428.104929 556.070299 \nL 423.004552 574.50822 \nL 419.853151 582.331168 \nL 410.57612 604.474375 \nL 410.57612 604.474375 \n\" style=\"fill:none;stroke:#440154;stroke-width:1.5;\"/>\n   </g>\n   <g id=\"LineCollection_4\">\n    <path clip-path=\"url(#p8f6a44d712)\" d=\"M 97.069171 604.474375 \nL 96.93195 595.461603 \nL 96.747443 582.331168 \nL 96.578316 569.200734 \nL 96.424543 556.070299 \nL 96.286099 542.939864 \nL 96.162957 529.809429 \nL 96.055092 516.678995 \nL 95.962478 503.54856 \nL 95.885089 490.418125 \nL 95.8229 477.28769 \nL 95.775886 464.157255 \nL 95.74402 451.026821 \nL 95.727277 437.896386 \nL 95.725632 424.765951 \nL 95.73906 411.635516 \nL 95.767536 398.505082 \nL 95.811033 385.374647 \nL 95.869527 372.244212 \nL 95.942994 359.113777 \nL 96.031407 345.983342 \nL 96.134741 332.852908 \nL 96.252973 319.722473 \nL 96.386077 306.592038 \nL 96.534028 293.461603 \nL 96.696802 280.331168 \nL 96.874373 267.200734 \nL 97.066717 254.070299 \nL 97.27381 240.939864 \nL 97.495627 227.809429 \nL 97.732143 214.678995 \nL 97.983334 201.54856 \nL 98.249176 188.418125 \nL 98.529644 175.28769 \nL 98.824714 162.157255 \nL 99.134362 149.026821 \nL 99.458564 135.896386 \nL 99.526291 133.272221 \nL 99.849046 122.765951 \nL 100.269659 109.635516 \nL 100.707426 96.505082 \nL 101.162314 83.374647 \nL 101.634289 70.244212 \nL 102.123318 57.113777 \nL 102.629367 43.983342 \nL 103.152403 30.852908 \nL 103.692391 17.722473 \nL 104.2493 4.592038 \nL 104.493671 -1 \n\" style=\"fill:none;stroke:#450457;stroke-width:1.5;\"/>\n    <path clip-path=\"url(#p8f6a44d712)\" d=\"M 558.483003 -1 \nL 558.583154 4.592038 \nL 558.803111 17.722473 \nL 559.00789 30.852908 \nL 559.197517 43.983342 \nL 559.372016 57.113777 \nL 559.531413 70.244212 \nL 559.675733 83.374647 \nL 559.805001 96.505082 \nL 559.919241 109.635516 \nL 560.018479 122.765951 \nL 560.10274 135.896386 \nL 560.172048 149.026821 \nL 560.226428 162.157255 \nL 560.265904 175.28769 \nL 560.290502 188.418125 \nL 560.300245 201.54856 \nL 560.295159 214.678995 \nL 560.275268 227.809429 \nL 560.240595 240.939864 \nL 560.191166 254.070299 \nL 560.127005 267.200734 \nL 560.048135 280.331168 \nL 559.954582 293.461603 \nL 559.846369 306.592038 \nL 559.72352 319.722473 \nL 559.58606 332.852908 \nL 559.434012 345.983342 \nL 559.2674 359.113777 \nL 559.086249 372.244212 \nL 558.890581 385.374647 \nL 558.680421 398.505082 \nL 558.455792 411.635516 \nL 558.216718 424.765951 \nL 557.963223 437.896386 \nL 557.78716 446.524248 \nL 557.677851 451.026821 \nL 557.341902 464.157255 \nL 556.988945 477.28769 \nL 556.619011 490.418125 \nL 556.232133 503.54856 \nL 555.828345 516.678995 \nL 555.407679 529.809429 \nL 554.970167 542.939864 \nL 554.515843 556.070299 \nL 554.044739 569.200734 \nL 553.556887 582.331168 \nL 553.052319 595.461603 \nL 552.694531 604.474375 \n\" style=\"fill:none;stroke:#450457;stroke-width:1.5;\"/>\n   </g>\n   <g id=\"LineCollection_5\">\n    <path clip-path=\"url(#p8f6a44d712)\" style=\"fill:none;stroke:#482475;stroke-width:1.5;\"/>\n    <path clip-path=\"url(#p8f6a44d712)\" style=\"fill:none;stroke:#482475;stroke-width:1.5;\"/>\n   </g>\n   <g id=\"LineCollection_6\"/>\n   <g id=\"line2d_11\">\n    <path clip-path=\"url(#p8f6a44d712)\" d=\"M 513.982812 112.918125 \nL 467.483537 112.918125 \nL 467.483537 67.618831 \nL 434.603584 35.587393 \nL 388.104309 35.587393 \nL 388.104309 -1 \nM 371.659827 -1 \nL 368.616563 22.696847 \nL 368.380789 22.696847 \nL 368.380789 23.014575 \nL 363.254502 61.635906 \nL 362.870984 61.635906 \nL 362.870984 61.865595 \nL 358.650055 91.628419 \nL 358.359887 91.628419 \nL 358.359887 91.781138 \nL 355.02474 113.898313 \nL 354.833451 113.898313 \nL 354.833451 113.978653 \nL 352.583397 128.141847 \nL 352.487176 128.141847 \nL 352.487176 128.170065 \nL 351.437499 134.519016 \nL 351.411777 134.519016 \nL 351.411777 134.520972 \nL 351.237032 135.552949 \nL 351.235553 135.552949 \nL 351.235553 135.55231 \nL 351.232873 135.567996 \nL 351.233221 135.567996 \nL 351.233221 135.566005 \nL 351.232902 135.567878 \nL 351.233251 135.567878 \nL 351.233251 135.565886 \n\" style=\"fill:none;stroke:#1f77b4;stroke-linecap:square;stroke-width:1.5;\"/>\n   </g>\n   <g id=\"line2d_12\">\n    <path clip-path=\"url(#p8f6a44d712)\" d=\"M 513.982812 112.918125 \nL 467.483537 67.618831 \nL 467.483537 67.618831 \nL 397.046989 -1 \nM 371.568292 -1 \nL 368.380789 23.014575 \nL 368.380789 23.014575 \nL 362.870984 61.865595 \nL 362.870984 61.865595 \nL 358.359887 91.781138 \nL 358.359887 91.781138 \nL 354.833451 113.978653 \nL 354.833451 113.978653 \nL 352.487176 128.170065 \nL 352.487176 128.170065 \nL 351.411777 134.520972 \nL 351.411777 134.520972 \nL 351.235553 135.55231 \nL 351.235553 135.55231 \nL 351.233221 135.566005 \n\" style=\"fill:none;stroke:#ff7f0e;stroke-dasharray:1.5,2.475;stroke-dashoffset:0;stroke-width:1.5;\"/>\n   </g>\n   <g id=\"patch_3\">\n    <path d=\"M 48.982812 565.918125 \nL 48.982812 22.318125 \n\" style=\"fill:none;stroke:#000000;stroke-linecap:square;stroke-linejoin:miter;stroke-width:0.8;\"/>\n   </g>\n   <g id=\"patch_4\">\n    <path d=\"M 606.982813 565.918125 \nL 606.982813 22.318125 \n\" style=\"fill:none;stroke:#000000;stroke-linecap:square;stroke-linejoin:miter;stroke-width:0.8;\"/>\n   </g>\n   <g id=\"patch_5\">\n    <path d=\"M 48.982812 565.918125 \nL 606.982812 565.918125 \n\" style=\"fill:none;stroke:#000000;stroke-linecap:square;stroke-linejoin:miter;stroke-width:0.8;\"/>\n   </g>\n   <g id=\"patch_6\">\n    <path d=\"M 48.982812 22.318125 \nL 606.982812 22.318125 \n\" style=\"fill:none;stroke:#000000;stroke-linecap:square;stroke-linejoin:miter;stroke-width:0.8;\"/>\n   </g>\n   <g id=\"text_13\">\n    <!-- Contour Plot -->\n    <g transform=\"translate(290.811875 16.318125)scale(0.12 -0.12)\">\n     <defs>\n      <path d=\"M 4122 4306 \nL 4122 3641 \nQ 3803 3938 3442 4084 \nQ 3081 4231 2675 4231 \nQ 1875 4231 1450 3742 \nQ 1025 3253 1025 2328 \nQ 1025 1406 1450 917 \nQ 1875 428 2675 428 \nQ 3081 428 3442 575 \nQ 3803 722 4122 1019 \nL 4122 359 \nQ 3791 134 3420 21 \nQ 3050 -91 2638 -91 \nQ 1578 -91 968 557 \nQ 359 1206 359 2328 \nQ 359 3453 968 4101 \nQ 1578 4750 2638 4750 \nQ 3056 4750 3426 4639 \nQ 3797 4528 4122 4306 \nz\n\" id=\"DejaVuSans-43\" transform=\"scale(0.015625)\"/>\n      <path d=\"M 1959 3097 \nQ 1497 3097 1228 2736 \nQ 959 2375 959 1747 \nQ 959 1119 1226 758 \nQ 1494 397 1959 397 \nQ 2419 397 2687 759 \nQ 2956 1122 2956 1747 \nQ 2956 2369 2687 2733 \nQ 2419 3097 1959 3097 \nz\nM 1959 3584 \nQ 2709 3584 3137 3096 \nQ 3566 2609 3566 1747 \nQ 3566 888 3137 398 \nQ 2709 -91 1959 -91 \nQ 1206 -91 779 398 \nQ 353 888 353 1747 \nQ 353 2609 779 3096 \nQ 1206 3584 1959 3584 \nz\n\" id=\"DejaVuSans-6f\" transform=\"scale(0.015625)\"/>\n      <path d=\"M 3513 2113 \nL 3513 0 \nL 2938 0 \nL 2938 2094 \nQ 2938 2591 2744 2837 \nQ 2550 3084 2163 3084 \nQ 1697 3084 1428 2787 \nQ 1159 2491 1159 1978 \nL 1159 0 \nL 581 0 \nL 581 3500 \nL 1159 3500 \nL 1159 2956 \nQ 1366 3272 1645 3428 \nQ 1925 3584 2291 3584 \nQ 2894 3584 3203 3211 \nQ 3513 2838 3513 2113 \nz\n\" id=\"DejaVuSans-6e\" transform=\"scale(0.015625)\"/>\n      <path d=\"M 1172 4494 \nL 1172 3500 \nL 2356 3500 \nL 2356 3053 \nL 1172 3053 \nL 1172 1153 \nQ 1172 725 1289 603 \nQ 1406 481 1766 481 \nL 2356 481 \nL 2356 0 \nL 1766 0 \nQ 1100 0 847 248 \nQ 594 497 594 1153 \nL 594 3053 \nL 172 3053 \nL 172 3500 \nL 594 3500 \nL 594 4494 \nL 1172 4494 \nz\n\" id=\"DejaVuSans-74\" transform=\"scale(0.015625)\"/>\n      <path d=\"M 544 1381 \nL 544 3500 \nL 1119 3500 \nL 1119 1403 \nQ 1119 906 1312 657 \nQ 1506 409 1894 409 \nQ 2359 409 2629 706 \nQ 2900 1003 2900 1516 \nL 2900 3500 \nL 3475 3500 \nL 3475 0 \nL 2900 0 \nL 2900 538 \nQ 2691 219 2414 64 \nQ 2138 -91 1772 -91 \nQ 1169 -91 856 284 \nQ 544 659 544 1381 \nz\nM 1991 3584 \nL 1991 3584 \nz\n\" id=\"DejaVuSans-75\" transform=\"scale(0.015625)\"/>\n      <path d=\"M 1259 4147 \nL 1259 2394 \nL 2053 2394 \nQ 2494 2394 2734 2622 \nQ 2975 2850 2975 3272 \nQ 2975 3691 2734 3919 \nQ 2494 4147 2053 4147 \nL 1259 4147 \nz\nM 628 4666 \nL 2053 4666 \nQ 2838 4666 3239 4311 \nQ 3641 3956 3641 3272 \nQ 3641 2581 3239 2228 \nQ 2838 1875 2053 1875 \nL 1259 1875 \nL 1259 0 \nL 628 0 \nL 628 4666 \nz\n\" id=\"DejaVuSans-50\" transform=\"scale(0.015625)\"/>\n     </defs>\n     <use xlink:href=\"#DejaVuSans-43\"/>\n     <use x=\"69.824219\" xlink:href=\"#DejaVuSans-6f\"/>\n     <use x=\"131.005859\" xlink:href=\"#DejaVuSans-6e\"/>\n     <use x=\"194.384766\" xlink:href=\"#DejaVuSans-74\"/>\n     <use x=\"233.59375\" xlink:href=\"#DejaVuSans-6f\"/>\n     <use x=\"294.775391\" xlink:href=\"#DejaVuSans-75\"/>\n     <use x=\"358.154297\" xlink:href=\"#DejaVuSans-72\"/>\n     <use x=\"399.267578\" xlink:href=\"#DejaVuSans-20\"/>\n     <use x=\"431.054688\" xlink:href=\"#DejaVuSans-50\"/>\n     <use x=\"491.357422\" xlink:href=\"#DejaVuSans-6c\"/>\n     <use x=\"519.140625\" xlink:href=\"#DejaVuSans-6f\"/>\n     <use x=\"580.322266\" xlink:href=\"#DejaVuSans-74\"/>\n    </g>\n   </g>\n  </g>\n </g>\n <defs>\n  <clipPath id=\"p8f6a44d712\">\n   <rect height=\"543.6\" width=\"558\" x=\"48.982812\" y=\"22.318125\"/>\n  </clipPath>\n </defs>\n</svg>\n",
            "image/png": "[encoded data removed]"
          },
          "metadata": {
            "needs_background": "light"
          }
        }
      ]
    },
    {
      "cell_type": "markdown",
      "metadata": {
        "id": "hio00gXitgXZ"
      },
      "source": [
        "### Rosenbrock's method"
      ]
    },
    {
      "cell_type": "code",
      "metadata": {
        "id": "AZmk62AjajN7"
      },
      "source": [
        "def rang(x,y,j):\n",
        "    if j==0:\n",
        "        l=x-10\n",
        "        u=x+10\n",
        "        return l,u,y\n",
        "    elif j==1:\n",
        "        l=y-10\n",
        "        u=y+10\n",
        "        return l,u,x"
      ],
      "execution_count": 55,
      "outputs": []
    },
    {
      "cell_type": "code",
      "metadata": {
        "id": "5hTURrJitmqn"
      },
      "source": [
        "def golden_search(l,a,b,c,j):\n",
        "    alpha=0.618\n",
        "    if j==0:\n",
        "        if abs(b-a)>=l:\n",
        "            lamda=a+((1-alpha)*(b-a))\n",
        "            mu=a+alpha*(b-a)\n",
        "            if f2(lamda,c)>f2(mu,c):\n",
        "                i,j,o,c=golden_search(l,lamda,b,c,j)\n",
        "                return i,j,(i+j)/2,c\n",
        "            else:\n",
        "                i,j,o,c=golden_search(l,a,mu,c,j)\n",
        "                return i,j,(i+j)/2,c\n",
        "        else:\n",
        "            return (a,b,(a+b)/2,c)\n",
        "    elif j==1:\n",
        "        if abs(b-a)>=0.0001:\n",
        "            lamda=a+((1-alpha)*(b-a))\n",
        "            mu=a+alpha*(b-a)\n",
        "            if f2(c,lamda)>f2(c,mu):\n",
        "                i,j,c,o=golden_search(l,lamda,b,c,j)\n",
        "                return i,j,c,(i+j)/2\n",
        "            else:\n",
        "                i,j,c,o=golden_search(l,a,mu,c,j)\n",
        "                return i,j,c,(i+j)/2\n",
        "        else:\n",
        "            return (a,b,c,(a+b)/2)"
      ],
      "execution_count": 56,
      "outputs": []
    },
    {
      "cell_type": "code",
      "metadata": {
        "id": "McuFON4etrM3"
      },
      "source": [
        "def Golden_search_cross(l,lx,ly,ux,uy):\n",
        "    alpha=0.618\n",
        "    if ((((lx-ux)**2)+((ly-uy)**2) )**0.5)>=l:\n",
        "        lamdax=lx+((1-alpha)*(ux-lx))\n",
        "        lamday=ly+((1-alpha)*(uy-ly))\n",
        "        mux=lx+alpha*(ux-lx)\n",
        "        muy=ly+alpha*(uy-ly)\n",
        "        if f2(lamdax,lamday)>f2(mux,muy):\n",
        "            nx,ny=Golden_search_cross(l,lamdax,lamday,ux,uy)\n",
        "            return nx,ny\n",
        "        else :\n",
        "            nx,ny=Golden_search_cross(l,lx,ly,mux,muy)\n",
        "            return nx,ny\n",
        "    else:\n",
        "        return (ux+lx)/2,(uy+ly)/2"
      ],
      "execution_count": 57,
      "outputs": []
    },
    {
      "cell_type": "code",
      "metadata": {
        "id": "2aGZXsW6ttzu"
      },
      "source": [
        "def dvector(lambda_lst,d_i):\n",
        "    a_j,b_j = [[0,0],[0,0]],[[0,0],[0,0]]\n",
        "    nd_i=[[0,0],[0,0]]\n",
        "    for i in range(0,2):\n",
        "        if lambda_lst[i] == 0:\n",
        "            a_j[i] =  d_i[i]\n",
        "        else:\n",
        "            for k in range(i,2):\n",
        "                a_j[i] += np.multiply(lambda_lst[k],d_i[k])\n",
        "\n",
        "        if i == 0:\n",
        "            b_j[i] = a_j[i]\n",
        "            nd_i[i] =b_j[i]/np.linalg.norm(b_j[i])\n",
        "        else:\n",
        "            for k in range(0,i):\n",
        "                a_j[i] -= np.multiply(np.dot(a_j[i].T,nd_i[k]),nd_i[k])\n",
        "            b_j[i] = a_j[i]\n",
        "            nd_i[i] =b_j[i]/np.linalg.norm(b_j[i])\n",
        "    return nd_i"
      ],
      "execution_count": 58,
      "outputs": []
    },
    {
      "cell_type": "code",
      "metadata": {
        "id": "ePcy1dhLuEZQ"
      },
      "source": [
        "def rosenbrocks(l,x,y,d):\n",
        "    # print(d)\n",
        "    global count\n",
        "    global lamda\n",
        "    count+=1\n",
        "    ox,oy=x,y\n",
        "    nx,ny=x,y\n",
        "    print(\"f(xk)= {}\".format(f2(x,y)))\n",
        "    print(\"Intial point= ({},{})\".format(x,y))\n",
        "    if count==1:\n",
        "        nox,noy=nx,ny\n",
        "        for j in range(2):\n",
        "            k,n,m=rang(nx,ny,j)\n",
        "            nox,noy=nx,ny\n",
        "            _,_,nx,ny=golden_search(l,k,n,m,j)\n",
        "            lamb=[nx-nox,ny-noy]\n",
        "            lamda[j]=lamb[j]\n",
        "            print(\"d= {}\".format(d[j]))\n",
        "            print(\"lamda= {}\".format(lamda[j]))\n",
        "            print(\"point after updating= ({},{})\".format(nx,ny))\n",
        "    else:\n",
        "\n",
        "        for j in range(2):\n",
        "            nox,noy=nx,ny\n",
        "\n",
        "            p=d[j]\n",
        "            d1,d2=p[0],p[1]\n",
        "            lx=nx-2*(1/np.sqrt(1+(d2/d1)**2))\n",
        "            ux=nx+2*(1/np.sqrt(1+(d2/d1)**2))\n",
        "            cap=2*(1/np.sqrt(1+(d2/d1)**2))/d1\n",
        "            ly=ny-d2*cap\n",
        "            uy=ny+d2*cap\n",
        "            nx,ny=Golden_search_cross(l,lx,ly,ux,uy)\n",
        "            try:\n",
        "                lamda[j]=(nx-nox)/d1\n",
        "                if type(lamda[j])!='int':\n",
        "                    lamda[j]=(ny-noy)/d2\n",
        "            except:\n",
        "                lamda[j]=(ny-noy)/d2\n",
        "            print(\"d= {}\".format(d[j]))\n",
        "            print(\"lamda= {}\".format(lamda[j]))\n",
        "            print(\"point after updating= ({},{})\".format(nx,ny))\n",
        "\n",
        "    # print(\"lamda= {}\".format(lamda))\n",
        "    dist=((((nx-ox)**2)+((ny-oy)**2) )**0.5)\n",
        "    if dist<l:\n",
        "        print(\"----------------------------------------\")\n",
        "        print(\"Number of iterations= {}\".format(count))\n",
        "        return nx,ny\n",
        "    else:\n",
        "        nd=dvector(lamda,d)\n",
        "        # print(\"new d vector is {}\".format(nd))\n",
        "        print(\"----------------------------------------\")\n",
        "        p,q=rosenbrocks(l,nx,ny,nd)\n",
        "        return p,q"
      ],
      "execution_count": 59,
      "outputs": []
    },
    {
      "cell_type": "code",
      "metadata": {
        "id": "GMq88QYvuFQD"
      },
      "source": [
        "count=0\n",
        "d=np.random.rand(2,2)\n",
        "for j in range(2):\n",
        "    for i in range(2):\n",
        "        if i==j:\n",
        "            d[i,j]=1\n",
        "        else:\n",
        "            d[i,j]=0\n",
        "lamda=[0 for j in range(len(d))]"
      ],
      "execution_count": 60,
      "outputs": []
    },
    {
      "cell_type": "code",
      "metadata": {
        "colab": {
          "base_uri": "https://localhost:8080/"
        },
        "id": "Dp7rmg7XuK1K",
        "outputId": "79b91ff6-f8cf-484d-b14a-d11839e6c70f"
      },
      "source": [
        "x,y=rosenbrocks(0.0003,0,0,d)\n",
        "print(\"The optima with Rosenbrock's method= ({},{})\".format(x,y))"
      ],
      "execution_count": 61,
      "outputs": [
        {
          "output_type": "stream",
          "name": "stdout",
          "text": [
            "f(xk)= 16\nIntial point= (0,0)\nd= [1. 0.]\nlamda= 1.1648614456630075\npoint after updating= (1.1648614456630075,0)\nd= [0. 1.]\nlamda= 0.5824218878079651\npoint after updating= (1.1648614456630075,0.5824218878079651)\n----------------------------------------\nf(xk)= 0.4864454371041738\nIntial point= (1.1648614456630075,0.5824218878079651)\nd= [0.8944299  0.44720817]\nlamda= 0.9329967315234309\npoint after updating= (1.999361623180687,0.9996656472057133)\nd= [-0.44720817  0.8944299 ]\nlamda= -1.0321982787722109e-05\npoint after updating= (1.9993662392557034,0.9996564149156337)\n----------------------------------------\nf(xk)= 2.8527279434599553e-09\nIntial point= (1.9993662392557034,0.9996564149156337)\nd= [0.89443485 0.44719827]\nlamda= -0.0004020470034969252\npoint after updating= (1.9990066344036062,0.9994766201899921)\nd= [ 0.44719827 -0.89443485]\nlamda= 1.0321982787722854e-05\npoint after updating= (1.9990112503764825,0.9994673878488443)\n----------------------------------------\nf(xk)= 5.849332248887652e-09\nIntial point= (1.9990112503764825,0.9994673878488443)\nd= [-0.88266283 -0.47000674]\nlamda= -0.0014091346298650206\npoint after updating= (2.0002550411325393,1.0001296906196615)\nd= [ 0.47000674 -0.88266283]\nlamda= 1.0321982787590004e-05\npoint after updating= (2.0002598925339994,1.0001205797891537)\n----------------------------------------\nf(xk)= 3.5092819116750226e-10\nIntial point= (2.0002598925339994,1.0001205797891537)\nd= [0.88608188 0.46352875]\nlamda= 0.0004104038510580976\npoint after updating= (2.000623543949339,1.0003108137742485)\nd= [ 0.46352875 -0.88608188]\nlamda= 1.032198278793555e-05\npoint after updating= (2.000628328485144,1.0003016676523486)\n----------------------------------------\nf(xk)= 6.248149332577519e-10\nIntial point= (2.000628328485144,1.0003016676523486)\nd= [0.89745619 0.4411036 ]\nlamda= -0.0016733243445426864\npoint after updating= (1.9991265931922437,0.9995635582620158)\nd= [ 0.4411036  -0.89745619]\nlamda= -1.032198278769533e-05\npoint after updating= (1.9991220401284888,0.9995728217893741)\n----------------------------------------\nf(xk)= 5.577170176563593e-10\nIntial point= (1.9991220401284888,0.9995728217893741)\nd= [-0.90016003 -0.43555931]\nlamda= -0.0008181837169275864\npoint after updating= (1.9998585364112842,0.9999291893244747)\nd= [-0.43555931  0.90016003]\nlamda= 1.0321982787943574e-05\npoint after updating= (1.9998540405755851,0.9999384807608565)\n----------------------------------------\nf(xk)= 5.253702252590515e-10\nIntial point= (1.9998540405755851,0.9999384807608565)\nd= [0.89459395 0.44687992]\nlamda= 0.0025284448792823816\npoint after updating= (2.0021159720661172,1.0010683920138794)\nd= [-0.44687992  0.89459395]\nlamda= -1.0321982787881578e-05\npoint after updating= (2.0021205847529906,1.001059158030531)\n----------------------------------------\nf(xk)= 2.536889005448276e-11\nIntial point= (2.0021205847529906,1.001059158030531)\nd= [0.8964108  0.44322419]\nlamda= -0.00028975171580916995\npoint after updating= (2.0018608481863014,1.0009307330612347)\nd= [ 0.44322419 -0.8964108 ]\nlamda= 1.0321982787445424e-05\npoint after updating= (2.001865423138754,1.0009214803244109)\n----------------------------------------\nNumber of iterations= 9\nThe optima with Rosenbrock's method= (2.001865423138754,1.0009214803244109)\n"
          ]
        }
      ]
    }
  ]
}